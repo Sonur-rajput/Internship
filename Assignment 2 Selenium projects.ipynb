{
 "cells": [
  {
   "cell_type": "markdown",
   "id": "03c6a19e",
   "metadata": {},
   "source": [
    "Q1: Write a python program to scrape data for “Data Analyst” Job position in “Bangalore” location. You have to scrape the job-title, job-location, company_name, experience_required. You have to scrape first 10 jobs data."
   ]
  },
  {
   "cell_type": "code",
   "execution_count": 2,
   "id": "198c62aa",
   "metadata": {},
   "outputs": [],
   "source": [
    "import pandas as pd\n",
    "import selenium \n",
    "import pandas \n",
    "from selenium import webdriver \n",
    "import time\n",
    "from selenium.common.exceptions import NoSuchElementException"
   ]
  },
  {
   "cell_type": "code",
   "execution_count": 3,
   "id": "ba4c34ad",
   "metadata": {},
   "outputs": [],
   "source": [
    "driver= webdriver.Chrome(\"chromedriver.exe\")"
   ]
  },
  {
   "cell_type": "code",
   "execution_count": 4,
   "id": "d4688db8",
   "metadata": {},
   "outputs": [],
   "source": [
    "url= \"https://www.naukri.com/\"\n",
    "driver.get(url)"
   ]
  },
  {
   "cell_type": "code",
   "execution_count": 5,
   "id": "f05414fd",
   "metadata": {},
   "outputs": [],
   "source": [
    "search_job= driver.find_element_by_xpath('// input[@class=\"sugInp\"]')"
   ]
  },
  {
   "cell_type": "code",
   "execution_count": 6,
   "id": "ee2274e2",
   "metadata": {},
   "outputs": [],
   "source": [
    "search_job.send_keys(\"Data Analyst\")"
   ]
  },
  {
   "cell_type": "code",
   "execution_count": 7,
   "id": "8da4a039",
   "metadata": {},
   "outputs": [],
   "source": [
    "search_loc= driver.find_element_by_xpath('//input[@name=\"location\"]')"
   ]
  },
  {
   "cell_type": "code",
   "execution_count": 8,
   "id": "bd0c2fdc",
   "metadata": {},
   "outputs": [],
   "source": [
    "search_loc.send_keys(\"Banglore\")"
   ]
  },
  {
   "cell_type": "code",
   "execution_count": 9,
   "id": "3aa85600",
   "metadata": {},
   "outputs": [],
   "source": [
    "search_btn=driver.find_element_by_xpath('//button[@class=\"btn\"]')"
   ]
  },
  {
   "cell_type": "code",
   "execution_count": 10,
   "id": "a99701c4",
   "metadata": {},
   "outputs": [],
   "source": [
    "search_btn.click()"
   ]
  },
  {
   "cell_type": "code",
   "execution_count": 11,
   "id": "a7865f07",
   "metadata": {},
   "outputs": [],
   "source": [
    "job_name=[]\n",
    "company_name=[]\n",
    "job_location=[]\n",
    "job_experience=[]\n",
    "\n",
    "pos_name= driver.find_elements_by_xpath('//a[@class=\"title fw500 ellipsis\"]')\n",
    "for i in pos_name:\n",
    "    job_name.append(i.text)\n",
    "job_loc=driver.find_elements_by_xpath(\"//li[@class='fleft grey-text br2 placeHolderLi location']\") \n",
    "for i in job_loc:\n",
    "    job_location.append(i.text)\n",
    "company=driver.find_elements_by_xpath(\"//a[@class='subTitle ellipsis fleft']\")\n",
    "for i in company:\n",
    "    company_name.append(i.text)\n",
    "experience=driver.find_elements_by_xpath(\"//li[@class='fleft grey-text br2 placeHolderLi experience']\")  \n",
    "for i in experience:\n",
    "    job_experience.append(i.text)"
   ]
  },
  {
   "cell_type": "code",
   "execution_count": 12,
   "id": "f0e61166",
   "metadata": {},
   "outputs": [
    {
     "data": {
      "text/html": [
       "<div>\n",
       "<style scoped>\n",
       "    .dataframe tbody tr th:only-of-type {\n",
       "        vertical-align: middle;\n",
       "    }\n",
       "\n",
       "    .dataframe tbody tr th {\n",
       "        vertical-align: top;\n",
       "    }\n",
       "\n",
       "    .dataframe thead th {\n",
       "        text-align: right;\n",
       "    }\n",
       "</style>\n",
       "<table border=\"1\" class=\"dataframe\">\n",
       "  <thead>\n",
       "    <tr style=\"text-align: right;\">\n",
       "      <th></th>\n",
       "      <th>job_name</th>\n",
       "      <th>company_name</th>\n",
       "      <th>job_location</th>\n",
       "      <th>job_experience</th>\n",
       "    </tr>\n",
       "  </thead>\n",
       "  <tbody>\n",
       "    <tr>\n",
       "      <th>0</th>\n",
       "      <td>Senior Data Analyst</td>\n",
       "      <td>Gaussian Networks Private Limited</td>\n",
       "      <td>Gurgaon/Gurugram, Bangalore/Bengaluru</td>\n",
       "      <td>3-5 Yrs</td>\n",
       "    </tr>\n",
       "    <tr>\n",
       "      <th>1</th>\n",
       "      <td>Tcs Hiring For Senior Data Analyst (bfsi domain)</td>\n",
       "      <td>Tata Consultancy Services Ltd.</td>\n",
       "      <td>Chennai, Bangalore/Bengaluru</td>\n",
       "      <td>6-11 Yrs</td>\n",
       "    </tr>\n",
       "    <tr>\n",
       "      <th>2</th>\n",
       "      <td>Business Data Analyst</td>\n",
       "      <td>Trigent Software</td>\n",
       "      <td>Bangalore/Bengaluru</td>\n",
       "      <td>5-10 Yrs</td>\n",
       "    </tr>\n",
       "    <tr>\n",
       "      <th>3</th>\n",
       "      <td>Business Data Analyst</td>\n",
       "      <td>Trigent Software</td>\n",
       "      <td>Bangalore/Bengaluru</td>\n",
       "      <td>5-10 Yrs</td>\n",
       "    </tr>\n",
       "    <tr>\n",
       "      <th>4</th>\n",
       "      <td>Business Data Analyst - Google Data Studio &amp; SQL</td>\n",
       "      <td>AVE-Promagne</td>\n",
       "      <td>Bangalore/Bengaluru</td>\n",
       "      <td>3-8 Yrs</td>\n",
       "    </tr>\n",
       "    <tr>\n",
       "      <th>5</th>\n",
       "      <td>Senior Data Analyst</td>\n",
       "      <td>Virtusa Consulting Services Pvt Ltd</td>\n",
       "      <td>Hyderabad/Secunderabad, Pune, Gurgaon/Gurugram...</td>\n",
       "      <td>8-12 Yrs</td>\n",
       "    </tr>\n",
       "    <tr>\n",
       "      <th>6</th>\n",
       "      <td>Tcs Hiring For MDM (master data management) Da...</td>\n",
       "      <td>Tata Consultancy Services Ltd.</td>\n",
       "      <td>Chennai, Bangalore/Bengaluru</td>\n",
       "      <td>6-11 Yrs</td>\n",
       "    </tr>\n",
       "    <tr>\n",
       "      <th>7</th>\n",
       "      <td>Senior Data Analyst IDAM Services</td>\n",
       "      <td>GlaxoSmithKline Pharmaceuticals Limited</td>\n",
       "      <td>Bangalore/Bengaluru</td>\n",
       "      <td>4-8 Yrs</td>\n",
       "    </tr>\n",
       "    <tr>\n",
       "      <th>8</th>\n",
       "      <td>Data Analyst/Sr.Data Engineer</td>\n",
       "      <td>SYREN TECHNOLOGIES PRIVATE LIMITED</td>\n",
       "      <td>Hyderabad/Secunderabad, Chennai, Bangalore/Ben...</td>\n",
       "      <td>4-9 Yrs</td>\n",
       "    </tr>\n",
       "    <tr>\n",
       "      <th>9</th>\n",
       "      <td>SENIOR DATA ANALYST</td>\n",
       "      <td>McAfee Software (India) Pvt. Ltd</td>\n",
       "      <td>Bangalore/Bengaluru</td>\n",
       "      <td>6-8 Yrs</td>\n",
       "    </tr>\n",
       "  </tbody>\n",
       "</table>\n",
       "</div>"
      ],
      "text/plain": [
       "                                            job_name  \\\n",
       "0                                Senior Data Analyst   \n",
       "1   Tcs Hiring For Senior Data Analyst (bfsi domain)   \n",
       "2                              Business Data Analyst   \n",
       "3                              Business Data Analyst   \n",
       "4   Business Data Analyst - Google Data Studio & SQL   \n",
       "5                                Senior Data Analyst   \n",
       "6  Tcs Hiring For MDM (master data management) Da...   \n",
       "7                  Senior Data Analyst IDAM Services   \n",
       "8                      Data Analyst/Sr.Data Engineer   \n",
       "9                                SENIOR DATA ANALYST   \n",
       "\n",
       "                              company_name  \\\n",
       "0        Gaussian Networks Private Limited   \n",
       "1           Tata Consultancy Services Ltd.   \n",
       "2                         Trigent Software   \n",
       "3                         Trigent Software   \n",
       "4                             AVE-Promagne   \n",
       "5      Virtusa Consulting Services Pvt Ltd   \n",
       "6           Tata Consultancy Services Ltd.   \n",
       "7  GlaxoSmithKline Pharmaceuticals Limited   \n",
       "8       SYREN TECHNOLOGIES PRIVATE LIMITED   \n",
       "9         McAfee Software (India) Pvt. Ltd   \n",
       "\n",
       "                                        job_location job_experience  \n",
       "0              Gurgaon/Gurugram, Bangalore/Bengaluru        3-5 Yrs  \n",
       "1                       Chennai, Bangalore/Bengaluru       6-11 Yrs  \n",
       "2                                Bangalore/Bengaluru       5-10 Yrs  \n",
       "3                                Bangalore/Bengaluru       5-10 Yrs  \n",
       "4                                Bangalore/Bengaluru        3-8 Yrs  \n",
       "5  Hyderabad/Secunderabad, Pune, Gurgaon/Gurugram...       8-12 Yrs  \n",
       "6                       Chennai, Bangalore/Bengaluru       6-11 Yrs  \n",
       "7                                Bangalore/Bengaluru        4-8 Yrs  \n",
       "8  Hyderabad/Secunderabad, Chennai, Bangalore/Ben...        4-9 Yrs  \n",
       "9                                Bangalore/Bengaluru        6-8 Yrs  "
      ]
     },
     "execution_count": 12,
     "metadata": {},
     "output_type": "execute_result"
    }
   ],
   "source": [
    "Naukri_data=pd.DataFrame({})\n",
    "Naukri_data['job_name']=job_name\n",
    "Naukri_data['company_name']=company_name\n",
    "Naukri_data['job_location']=job_location\n",
    "Naukri_data['job_experience']=job_experience\n",
    "Naukri_data1=Naukri_data[0:10]\n",
    "Naukri_data1"
   ]
  },
  {
   "cell_type": "markdown",
   "id": "ab8e123f",
   "metadata": {},
   "source": [
    "Q2: Write a python program to scrape data for “Data Scientist” Job position in “Bangalore” location. You have to scrape the job-title, job-location, company_name, full job-description. You have to scrape first 10 jobs data."
   ]
  },
  {
   "cell_type": "code",
   "execution_count": 13,
   "id": "5fc11d12",
   "metadata": {},
   "outputs": [],
   "source": [
    "driver1= webdriver.Chrome(\"chromedriver.exe\")"
   ]
  },
  {
   "cell_type": "code",
   "execution_count": 14,
   "id": "57c5f970",
   "metadata": {},
   "outputs": [],
   "source": [
    "url= \"https://www.naukri.com/\"\n",
    "driver1.get(url)"
   ]
  },
  {
   "cell_type": "code",
   "execution_count": 15,
   "id": "2c093421",
   "metadata": {},
   "outputs": [],
   "source": [
    "search_job= driver1.find_element_by_xpath('// input[@class=\"sugInp\"]')"
   ]
  },
  {
   "cell_type": "code",
   "execution_count": 16,
   "id": "a059633c",
   "metadata": {},
   "outputs": [],
   "source": [
    "search_job.send_keys(\"Data Scientist\")"
   ]
  },
  {
   "cell_type": "code",
   "execution_count": 17,
   "id": "8e4289b6",
   "metadata": {},
   "outputs": [],
   "source": [
    "search_loc= driver1.find_element_by_xpath('//input[@name=\"location\"]')"
   ]
  },
  {
   "cell_type": "code",
   "execution_count": 18,
   "id": "177f022d",
   "metadata": {},
   "outputs": [],
   "source": [
    "search_loc.send_keys(\"Banglore\")"
   ]
  },
  {
   "cell_type": "code",
   "execution_count": 19,
   "id": "46abbcaf",
   "metadata": {},
   "outputs": [],
   "source": [
    "search_btn=driver1.find_element_by_xpath('//button[@class=\"btn\"]')"
   ]
  },
  {
   "cell_type": "code",
   "execution_count": 20,
   "id": "b739974e",
   "metadata": {},
   "outputs": [],
   "source": [
    "search_btn.click()"
   ]
  },
  {
   "cell_type": "code",
   "execution_count": 21,
   "id": "6714e73c",
   "metadata": {},
   "outputs": [],
   "source": [
    "job_name=[]\n",
    "company_name=[]\n",
    "job_location=[]\n",
    "job_description=[]\n",
    "job_opening_urls=[]\n",
    "job_des=[]\n",
    "\n",
    "pos_name= driver1.find_elements_by_xpath('//a[@class=\"title fw500 ellipsis\"]')\n",
    "for i in pos_name:\n",
    "    job_name.append(i.text)\n",
    "job_loc=driver1.find_elements_by_xpath(\"//li[@class='fleft grey-text br2 placeHolderLi location']\") \n",
    "for i in job_loc:\n",
    "    job_location.append(i.text)\n",
    "company=driver1.find_elements_by_xpath(\"//a[@class='subTitle ellipsis fleft']\")\n",
    "for i in company:\n",
    "    company_name.append(i.text)\n",
    "url= driver1.find_elements_by_xpath('//a[@class=\"title fw500 ellipsis\"]')\n",
    "job_opening_urls=[]\n",
    "for i in url:\n",
    "    job_opening_urls.append(i.get_attribute('href'))\n",
    "\n",
    "for i in job_opening_urls:\n",
    "    driver1.get(i)\n",
    "    time.sleep(5)\n",
    "    try:\n",
    "        job_description= driver1.find_element_by_xpath(\"//section[@class='job-desc']\")\n",
    "        job_des.append(job_description.text)\n",
    "    except:\n",
    "        job_des.append(\"--\")\n",
    "            \n",
    "       \n",
    "        \n",
    "               "
   ]
  },
  {
   "cell_type": "code",
   "execution_count": 22,
   "id": "3a18d5b3",
   "metadata": {},
   "outputs": [
    {
     "data": {
      "text/html": [
       "<div>\n",
       "<style scoped>\n",
       "    .dataframe tbody tr th:only-of-type {\n",
       "        vertical-align: middle;\n",
       "    }\n",
       "\n",
       "    .dataframe tbody tr th {\n",
       "        vertical-align: top;\n",
       "    }\n",
       "\n",
       "    .dataframe thead th {\n",
       "        text-align: right;\n",
       "    }\n",
       "</style>\n",
       "<table border=\"1\" class=\"dataframe\">\n",
       "  <thead>\n",
       "    <tr style=\"text-align: right;\">\n",
       "      <th></th>\n",
       "      <th>job_name</th>\n",
       "      <th>company_name</th>\n",
       "      <th>job_location</th>\n",
       "      <th>job_des</th>\n",
       "    </tr>\n",
       "  </thead>\n",
       "  <tbody>\n",
       "    <tr>\n",
       "      <th>0</th>\n",
       "      <td>Hiring For Data Scientist</td>\n",
       "      <td>Tata Consultancy Services Ltd.</td>\n",
       "      <td>Chennai, Bangalore/Bengaluru, Mumbai (All Area...</td>\n",
       "      <td>Job description\\nMinumum 3 years of experience...</td>\n",
       "    </tr>\n",
       "    <tr>\n",
       "      <th>1</th>\n",
       "      <td>Lead Data Scientist BFSI</td>\n",
       "      <td>IBM India Pvt. Limited</td>\n",
       "      <td>Bengaluru/Bangalore</td>\n",
       "      <td>--</td>\n",
       "    </tr>\n",
       "    <tr>\n",
       "      <th>2</th>\n",
       "      <td>Associate Data Scientist</td>\n",
       "      <td>Philips India Limited</td>\n",
       "      <td>Bangalore/Bengaluru</td>\n",
       "      <td>Job description\\nUse predictive modeling to in...</td>\n",
       "    </tr>\n",
       "    <tr>\n",
       "      <th>3</th>\n",
       "      <td>Data Scientist</td>\n",
       "      <td>Brillio</td>\n",
       "      <td>Bangalore/Bengaluru</td>\n",
       "      <td>Job description\\nA day in the Life of Data Sci...</td>\n",
       "    </tr>\n",
       "    <tr>\n",
       "      <th>4</th>\n",
       "      <td>Data Scientist - I / II</td>\n",
       "      <td>Sharechat</td>\n",
       "      <td>Bangalore/Bengaluru</td>\n",
       "      <td>Job description\\nResponsibilities\\nApply state...</td>\n",
       "    </tr>\n",
       "    <tr>\n",
       "      <th>5</th>\n",
       "      <td>Data Scientist</td>\n",
       "      <td>Allegis Services India Pvt. Ltd.</td>\n",
       "      <td>Bangalore/Bengaluru</td>\n",
       "      <td>Job description\\n\\nMust Have skill sets:\\n\\nEx...</td>\n",
       "    </tr>\n",
       "    <tr>\n",
       "      <th>6</th>\n",
       "      <td>Data Scientist</td>\n",
       "      <td>Allegis Services India Pvt. Ltd.</td>\n",
       "      <td>Bangalore/Bengaluru</td>\n",
       "      <td>--</td>\n",
       "    </tr>\n",
       "    <tr>\n",
       "      <th>7</th>\n",
       "      <td>Data Scientist: Advanced Analytics</td>\n",
       "      <td>IBM India Pvt. Limited</td>\n",
       "      <td>Bengaluru/Bangalore</td>\n",
       "      <td>--</td>\n",
       "    </tr>\n",
       "    <tr>\n",
       "      <th>8</th>\n",
       "      <td>Senior Data Scientist</td>\n",
       "      <td>Walmart Labs</td>\n",
       "      <td>Bangalore/Bengaluru</td>\n",
       "      <td>Job description\\nAs a Senior Data Scientist fo...</td>\n",
       "    </tr>\n",
       "    <tr>\n",
       "      <th>9</th>\n",
       "      <td>Senior Data Scientist</td>\n",
       "      <td>Airbnb</td>\n",
       "      <td>Bangalore/Bengaluru</td>\n",
       "      <td>Job description\\nResponsibilities include:\\nDe...</td>\n",
       "    </tr>\n",
       "  </tbody>\n",
       "</table>\n",
       "</div>"
      ],
      "text/plain": [
       "                             job_name                      company_name  \\\n",
       "0           Hiring For Data Scientist    Tata Consultancy Services Ltd.   \n",
       "1            Lead Data Scientist BFSI            IBM India Pvt. Limited   \n",
       "2            Associate Data Scientist             Philips India Limited   \n",
       "3                      Data Scientist                           Brillio   \n",
       "4             Data Scientist - I / II                         Sharechat   \n",
       "5                      Data Scientist  Allegis Services India Pvt. Ltd.   \n",
       "6                      Data Scientist  Allegis Services India Pvt. Ltd.   \n",
       "7  Data Scientist: Advanced Analytics            IBM India Pvt. Limited   \n",
       "8               Senior Data Scientist                      Walmart Labs   \n",
       "9               Senior Data Scientist                            Airbnb   \n",
       "\n",
       "                                        job_location  \\\n",
       "0  Chennai, Bangalore/Bengaluru, Mumbai (All Area...   \n",
       "1                                Bengaluru/Bangalore   \n",
       "2                                Bangalore/Bengaluru   \n",
       "3                                Bangalore/Bengaluru   \n",
       "4                                Bangalore/Bengaluru   \n",
       "5                                Bangalore/Bengaluru   \n",
       "6                                Bangalore/Bengaluru   \n",
       "7                                Bengaluru/Bangalore   \n",
       "8                                Bangalore/Bengaluru   \n",
       "9                                Bangalore/Bengaluru   \n",
       "\n",
       "                                             job_des  \n",
       "0  Job description\\nMinumum 3 years of experience...  \n",
       "1                                                 --  \n",
       "2  Job description\\nUse predictive modeling to in...  \n",
       "3  Job description\\nA day in the Life of Data Sci...  \n",
       "4  Job description\\nResponsibilities\\nApply state...  \n",
       "5  Job description\\n\\nMust Have skill sets:\\n\\nEx...  \n",
       "6                                                 --  \n",
       "7                                                 --  \n",
       "8  Job description\\nAs a Senior Data Scientist fo...  \n",
       "9  Job description\\nResponsibilities include:\\nDe...  "
      ]
     },
     "execution_count": 22,
     "metadata": {},
     "output_type": "execute_result"
    }
   ],
   "source": [
    "Naukri_data=pd.DataFrame({})\n",
    "Naukri_data['job_name']=job_name\n",
    "Naukri_data['company_name']=company_name\n",
    "Naukri_data['job_location']=job_location\n",
    "Naukri_data['job_des']=job_des\n",
    "Naukri_data2=Naukri_data[0:10]\n",
    "Naukri_data2"
   ]
  },
  {
   "cell_type": "markdown",
   "id": "6baeb222",
   "metadata": {},
   "source": [
    "Q3: In this question you have to scrape data using the filters available on the webpage as shown below:"
   ]
  },
  {
   "cell_type": "code",
   "execution_count": 23,
   "id": "b32c69bd",
   "metadata": {},
   "outputs": [],
   "source": [
    "driver= webdriver.Chrome(\"chromedriver.exe\")"
   ]
  },
  {
   "cell_type": "code",
   "execution_count": 24,
   "id": "77844587",
   "metadata": {},
   "outputs": [],
   "source": [
    "url= \"https://www.naukri.com/\"\n",
    "driver.get(url)"
   ]
  },
  {
   "cell_type": "code",
   "execution_count": 25,
   "id": "04899375",
   "metadata": {},
   "outputs": [],
   "source": [
    "search_job= driver.find_element_by_xpath('//input[@class=\"sugInp\"]')"
   ]
  },
  {
   "cell_type": "code",
   "execution_count": 26,
   "id": "384a476d",
   "metadata": {},
   "outputs": [],
   "source": [
    "search_job.send_keys(\"Data Scientist\")"
   ]
  },
  {
   "cell_type": "code",
   "execution_count": 27,
   "id": "151fc844",
   "metadata": {},
   "outputs": [
    {
     "data": {
      "text/plain": [
       "<selenium.webdriver.remote.webelement.WebElement (session=\"044fc15600a3a42c0577ad069dea413a\", element=\"9bb9150f-c4e3-4274-8b7b-5e15994c2042\")>"
      ]
     },
     "execution_count": 27,
     "metadata": {},
     "output_type": "execute_result"
    }
   ],
   "source": [
    "search_btn=driver.find_element_by_xpath('//button[@class=\"btn\"]')\n",
    "search_btn"
   ]
  },
  {
   "cell_type": "code",
   "execution_count": 28,
   "id": "fad57662",
   "metadata": {},
   "outputs": [],
   "source": [
    "search_btn.click()"
   ]
  },
  {
   "cell_type": "code",
   "execution_count": 29,
   "id": "96038901",
   "metadata": {},
   "outputs": [
    {
     "data": {
      "text/plain": [
       "<selenium.webdriver.remote.webelement.WebElement (session=\"044fc15600a3a42c0577ad069dea413a\", element=\"bb3e9876-427a-44ab-bea8-65d54cd4af28\")>"
      ]
     },
     "execution_count": 29,
     "metadata": {},
     "output_type": "execute_result"
    }
   ],
   "source": [
    "filter_button1=driver.find_element_by_xpath('//span[@class=\"ellipsis fleft\"]')\n",
    "filter_button1"
   ]
  },
  {
   "cell_type": "code",
   "execution_count": 30,
   "id": "42de53e1",
   "metadata": {},
   "outputs": [],
   "source": [
    "filter_button1.click()"
   ]
  },
  {
   "cell_type": "code",
   "execution_count": 31,
   "id": "0422538a",
   "metadata": {},
   "outputs": [
    {
     "data": {
      "text/plain": [
       "<selenium.webdriver.remote.webelement.WebElement (session=\"044fc15600a3a42c0577ad069dea413a\", element=\"e18d9a8d-0cc8-482b-b38e-d6e5cbe843f8\")>"
      ]
     },
     "execution_count": 31,
     "metadata": {},
     "output_type": "execute_result"
    }
   ],
   "source": [
    "filter_button2=driver.find_element_by_xpath('//span[@title=\"Delhi / NCR\"]')\n",
    "filter_button2"
   ]
  },
  {
   "cell_type": "code",
   "execution_count": 32,
   "id": "99831ebe",
   "metadata": {},
   "outputs": [],
   "source": [
    "filter_button2.click()"
   ]
  },
  {
   "cell_type": "code",
   "execution_count": 33,
   "id": "49b0b5cc",
   "metadata": {},
   "outputs": [],
   "source": [
    "Job_title=[]\n",
    "Job_location=[]\n",
    "Company_name=[]\n",
    "Experience_required=[]\n",
    "job_name= driver.find_elements_by_xpath('//a[@class=\"title fw500 ellipsis\"]')\n",
    "for i in job_name:\n",
    "    Job_title.append(i.text)\n",
    "job_location= driver.find_elements_by_xpath('//li[@class=\"fleft grey-text br2 placeHolderLi location\"]')  \n",
    "for i in job_location:\n",
    "    Job_location.append(i.text)\n",
    "company_name= driver.find_elements_by_xpath('//a[@class=\"subTitle ellipsis fleft\"]')\n",
    "for i in company_name:\n",
    "    Company_name.append(i.text)\n",
    "experience_required= driver.find_elements_by_xpath('//li[@class=\"fleft grey-text br2 placeHolderLi experience\"]')\n",
    "for i in experience_required:\n",
    "    Experience_required.append(i.text)"
   ]
  },
  {
   "cell_type": "code",
   "execution_count": 34,
   "id": "038202b0",
   "metadata": {},
   "outputs": [
    {
     "data": {
      "text/html": [
       "<div>\n",
       "<style scoped>\n",
       "    .dataframe tbody tr th:only-of-type {\n",
       "        vertical-align: middle;\n",
       "    }\n",
       "\n",
       "    .dataframe tbody tr th {\n",
       "        vertical-align: top;\n",
       "    }\n",
       "\n",
       "    .dataframe thead th {\n",
       "        text-align: right;\n",
       "    }\n",
       "</style>\n",
       "<table border=\"1\" class=\"dataframe\">\n",
       "  <thead>\n",
       "    <tr style=\"text-align: right;\">\n",
       "      <th></th>\n",
       "      <th>Job_title</th>\n",
       "      <th>Job_location</th>\n",
       "      <th>Company_name</th>\n",
       "      <th>Experience_required</th>\n",
       "    </tr>\n",
       "  </thead>\n",
       "  <tbody>\n",
       "    <tr>\n",
       "      <th>0</th>\n",
       "      <td>Lead Data Scientist</td>\n",
       "      <td>Bangalore/Bengaluru, Delhi / NCR, Mumbai (All ...</td>\n",
       "      <td>TransOrg Solutions Services (P) Ltd.</td>\n",
       "      <td>4-6 Yrs</td>\n",
       "    </tr>\n",
       "    <tr>\n",
       "      <th>1</th>\n",
       "      <td>Data Scientist</td>\n",
       "      <td>Noida\\n(WFH during Covid)</td>\n",
       "      <td>R Systems International Ltd.</td>\n",
       "      <td>3-6 Yrs</td>\n",
       "    </tr>\n",
       "    <tr>\n",
       "      <th>2</th>\n",
       "      <td>Data Scientist</td>\n",
       "      <td>Gurgaon/Gurugram\\n(WFH during Covid)</td>\n",
       "      <td>PROCESS NINE TECHNOLOGIES PVT.LTD.</td>\n",
       "      <td>1-3 Yrs</td>\n",
       "    </tr>\n",
       "    <tr>\n",
       "      <th>3</th>\n",
       "      <td>Data Scientist</td>\n",
       "      <td>Gurgaon/Gurugram\\n(WFH during Covid)</td>\n",
       "      <td>Altran Technologies India Private Limited.</td>\n",
       "      <td>3-8 Yrs</td>\n",
       "    </tr>\n",
       "    <tr>\n",
       "      <th>4</th>\n",
       "      <td>Data Scientist - Python</td>\n",
       "      <td>Noida(Sector-59 Noida)\\n(WFH during Covid)</td>\n",
       "      <td>R Systems International Ltd.</td>\n",
       "      <td>5-8 Yrs</td>\n",
       "    </tr>\n",
       "    <tr>\n",
       "      <th>5</th>\n",
       "      <td>Data Scientist</td>\n",
       "      <td>Noida\\n(WFH during Covid)</td>\n",
       "      <td>People Prime Worldwide Pvt. Ltd.</td>\n",
       "      <td>4-6 Yrs</td>\n",
       "    </tr>\n",
       "    <tr>\n",
       "      <th>6</th>\n",
       "      <td>Senior Data Scientist</td>\n",
       "      <td>New Delhi, Bangalore/Bengaluru, Delhi / NCR\\n(...</td>\n",
       "      <td>Goals 101 Data Solutions Pvt. Ltd.</td>\n",
       "      <td>4-8 Yrs</td>\n",
       "    </tr>\n",
       "    <tr>\n",
       "      <th>7</th>\n",
       "      <td>Lead Data Scientist | 5+ Years | Remote</td>\n",
       "      <td>Gurgaon/Gurugram\\n(WFH during Covid)</td>\n",
       "      <td>Xtage Technologies Private Limited</td>\n",
       "      <td>5-10 Yrs</td>\n",
       "    </tr>\n",
       "    <tr>\n",
       "      <th>8</th>\n",
       "      <td>Data Scientist</td>\n",
       "      <td>Gurgaon/Gurugram, Bangalore/Bengaluru, Mumbai ...</td>\n",
       "      <td>Fractal Analytics</td>\n",
       "      <td>3-5 Yrs</td>\n",
       "    </tr>\n",
       "    <tr>\n",
       "      <th>9</th>\n",
       "      <td>Product Based Startup is Hiring For Data Scien...</td>\n",
       "      <td>Noida\\n(WFH during Covid)</td>\n",
       "      <td>LIVE CONNECTIONS PLACEMENTS PRIVATE LIMITED</td>\n",
       "      <td>4-9 Yrs</td>\n",
       "    </tr>\n",
       "  </tbody>\n",
       "</table>\n",
       "</div>"
      ],
      "text/plain": [
       "                                           Job_title  \\\n",
       "0                                Lead Data Scientist   \n",
       "1                                     Data Scientist   \n",
       "2                                     Data Scientist   \n",
       "3                                     Data Scientist   \n",
       "4                            Data Scientist - Python   \n",
       "5                                     Data Scientist   \n",
       "6                              Senior Data Scientist   \n",
       "7            Lead Data Scientist | 5+ Years | Remote   \n",
       "8                                     Data Scientist   \n",
       "9  Product Based Startup is Hiring For Data Scien...   \n",
       "\n",
       "                                        Job_location  \\\n",
       "0  Bangalore/Bengaluru, Delhi / NCR, Mumbai (All ...   \n",
       "1                          Noida\\n(WFH during Covid)   \n",
       "2               Gurgaon/Gurugram\\n(WFH during Covid)   \n",
       "3               Gurgaon/Gurugram\\n(WFH during Covid)   \n",
       "4         Noida(Sector-59 Noida)\\n(WFH during Covid)   \n",
       "5                          Noida\\n(WFH during Covid)   \n",
       "6  New Delhi, Bangalore/Bengaluru, Delhi / NCR\\n(...   \n",
       "7               Gurgaon/Gurugram\\n(WFH during Covid)   \n",
       "8  Gurgaon/Gurugram, Bangalore/Bengaluru, Mumbai ...   \n",
       "9                          Noida\\n(WFH during Covid)   \n",
       "\n",
       "                                  Company_name Experience_required  \n",
       "0         TransOrg Solutions Services (P) Ltd.             4-6 Yrs  \n",
       "1                 R Systems International Ltd.             3-6 Yrs  \n",
       "2           PROCESS NINE TECHNOLOGIES PVT.LTD.             1-3 Yrs  \n",
       "3   Altran Technologies India Private Limited.             3-8 Yrs  \n",
       "4                 R Systems International Ltd.             5-8 Yrs  \n",
       "5             People Prime Worldwide Pvt. Ltd.             4-6 Yrs  \n",
       "6           Goals 101 Data Solutions Pvt. Ltd.             4-8 Yrs  \n",
       "7           Xtage Technologies Private Limited            5-10 Yrs  \n",
       "8                            Fractal Analytics             3-5 Yrs  \n",
       "9  LIVE CONNECTIONS PLACEMENTS PRIVATE LIMITED             4-9 Yrs  "
      ]
     },
     "execution_count": 34,
     "metadata": {},
     "output_type": "execute_result"
    }
   ],
   "source": [
    "NCR_job_data= pd.DataFrame({})\n",
    "NCR_job_data['Job_title']=Job_title\n",
    "NCR_job_data['Job_location']= Job_location\n",
    "NCR_job_data['Company_name']= Company_name\n",
    "NCR_job_data['Experience_required']= Experience_required\n",
    "NCR_job_data=NCR_job_data[0:10]\n",
    "NCR_job_data"
   ]
  },
  {
   "cell_type": "markdown",
   "id": "cb518a13",
   "metadata": {},
   "source": [
    "Q4: Write a python program to scrape data for first 10 job results for Data scientist Designation in Noida location. You have to scrape company_name, No. of days ago when job was posted, Rating of the company."
   ]
  },
  {
   "cell_type": "code",
   "execution_count": 35,
   "id": "bb20fc43",
   "metadata": {},
   "outputs": [],
   "source": [
    "Driver1=webdriver.Chrome(\"chromedriver.exe\")\n",
    "url=\"https://www.glassdoor.co.in/index.htm/\" \n",
    "Driver1.get(url)"
   ]
  },
  {
   "cell_type": "code",
   "execution_count": 36,
   "id": "f809a6c8",
   "metadata": {},
   "outputs": [],
   "source": [
    "search_job= Driver1.find_element_by_xpath('//input[@id=\"sc.keyword\"]')"
   ]
  },
  {
   "cell_type": "code",
   "execution_count": 37,
   "id": "728a2c9a",
   "metadata": {},
   "outputs": [],
   "source": [
    "search_job.send_keys(\"Data Scientist\")"
   ]
  },
  {
   "cell_type": "code",
   "execution_count": 38,
   "id": "cc64e7ed",
   "metadata": {},
   "outputs": [],
   "source": [
    "search_loc=Driver1.find_element_by_xpath('//input[@id=\"sc.location\"]')"
   ]
  },
  {
   "cell_type": "code",
   "execution_count": 39,
   "id": "64d5cd42",
   "metadata": {},
   "outputs": [],
   "source": [
    "search_loc.send_keys(\"Noida\")"
   ]
  },
  {
   "cell_type": "code",
   "execution_count": 40,
   "id": "076a72bd",
   "metadata": {},
   "outputs": [],
   "source": [
    "search_btn=Driver1.find_element_by_xpath('//button[@class=\"gd-ui-button ml-std col-auto search__SearchStyles__newSearchButton css-1dqvyh7\"]')"
   ]
  },
  {
   "cell_type": "code",
   "execution_count": 41,
   "id": "10f51231",
   "metadata": {},
   "outputs": [],
   "source": [
    "search_btn.click()"
   ]
  },
  {
   "cell_type": "code",
   "execution_count": 42,
   "id": "6ab2c7f2",
   "metadata": {},
   "outputs": [],
   "source": [
    "Company_name=[]\n",
    "Posted_time=[]    \n",
    "Company_rating=[]\n",
    "company_name= Driver1.find_elements_by_xpath('//div[@class=\"d-flex justify-content-between align-items-start\"]')\n",
    "for i in company_name:\n",
    "    Company_name.append(i.text)\n",
    "posted_time=Driver1.find_elements_by_xpath('//div[@class=\"d-flex align-items-end pl-std css-17n8uzw\"]')\n",
    "for i in posted_time:\n",
    "    Posted_time.append(i.text)\n",
    "company_rating=Driver1.find_elements_by_xpath('//span[@class=\" job-search-key-srfzj0 e1cjmv6j0\"]')\n",
    "Company_rating=[]\n",
    "for i in company_rating:\n",
    "    Company_rating.append(i.text)"
   ]
  },
  {
   "cell_type": "code",
   "execution_count": 44,
   "id": "d9adfad3",
   "metadata": {},
   "outputs": [
    {
     "data": {
      "text/html": [
       "<div>\n",
       "<style scoped>\n",
       "    .dataframe tbody tr th:only-of-type {\n",
       "        vertical-align: middle;\n",
       "    }\n",
       "\n",
       "    .dataframe tbody tr th {\n",
       "        vertical-align: top;\n",
       "    }\n",
       "\n",
       "    .dataframe thead th {\n",
       "        text-align: right;\n",
       "    }\n",
       "</style>\n",
       "<table border=\"1\" class=\"dataframe\">\n",
       "  <thead>\n",
       "    <tr style=\"text-align: right;\">\n",
       "      <th></th>\n",
       "      <th>Company_name</th>\n",
       "      <th>Posted_time</th>\n",
       "      <th>Company_rating</th>\n",
       "    </tr>\n",
       "  </thead>\n",
       "  <tbody>\n",
       "    <tr>\n",
       "      <th>0</th>\n",
       "      <td>Applied Materials Inc.</td>\n",
       "      <td>30d+</td>\n",
       "      <td>3.9</td>\n",
       "    </tr>\n",
       "    <tr>\n",
       "      <th>1</th>\n",
       "      <td>Top Mentor</td>\n",
       "      <td>5d</td>\n",
       "      <td>3.6</td>\n",
       "    </tr>\n",
       "    <tr>\n",
       "      <th>2</th>\n",
       "      <td>Lenskart</td>\n",
       "      <td>7d</td>\n",
       "      <td>3.4</td>\n",
       "    </tr>\n",
       "    <tr>\n",
       "      <th>3</th>\n",
       "      <td>Elpis IT Solutions</td>\n",
       "      <td>6d</td>\n",
       "      <td>3.9</td>\n",
       "    </tr>\n",
       "    <tr>\n",
       "      <th>4</th>\n",
       "      <td>Argoid</td>\n",
       "      <td>7d</td>\n",
       "      <td>3.8</td>\n",
       "    </tr>\n",
       "    <tr>\n",
       "      <th>5</th>\n",
       "      <td>IBM</td>\n",
       "      <td>2d</td>\n",
       "      <td>4.2</td>\n",
       "    </tr>\n",
       "    <tr>\n",
       "      <th>6</th>\n",
       "      <td>Airtel India</td>\n",
       "      <td>24d</td>\n",
       "      <td>4.0</td>\n",
       "    </tr>\n",
       "    <tr>\n",
       "      <th>7</th>\n",
       "      <td>HP</td>\n",
       "      <td>12d</td>\n",
       "      <td>5.0</td>\n",
       "    </tr>\n",
       "    <tr>\n",
       "      <th>8</th>\n",
       "      <td>limeroad.com</td>\n",
       "      <td>19d</td>\n",
       "      <td>4.8</td>\n",
       "    </tr>\n",
       "    <tr>\n",
       "      <th>9</th>\n",
       "      <td>ING</td>\n",
       "      <td>10d</td>\n",
       "      <td>4.0</td>\n",
       "    </tr>\n",
       "  </tbody>\n",
       "</table>\n",
       "</div>"
      ],
      "text/plain": [
       "             Company_name Posted_time Company_rating\n",
       "0  Applied Materials Inc.        30d+            3.9\n",
       "1              Top Mentor          5d            3.6\n",
       "2                Lenskart          7d            3.4\n",
       "3      Elpis IT Solutions          6d            3.9\n",
       "4                  Argoid          7d            3.8\n",
       "5                     IBM          2d            4.2\n",
       "6            Airtel India         24d            4.0\n",
       "7                      HP         12d            5.0\n",
       "8            limeroad.com         19d            4.8\n",
       "9                     ING         10d            4.0"
      ]
     },
     "execution_count": 44,
     "metadata": {},
     "output_type": "execute_result"
    }
   ],
   "source": [
    "GD_company=pd.DataFrame({})\n",
    "GD_company['Company_name']= Company_name[0:10]\n",
    "GD_company['Posted_time']=Posted_time[0:10]\n",
    "GD_company['Company_rating']=Company_rating[0:10]\n",
    "GD_company=GD_company[0:10]\n",
    "GD_company"
   ]
  },
  {
   "cell_type": "markdown",
   "id": "9dfbb08e",
   "metadata": {},
   "source": [
    "Q5: Write a python program to scrape the salary data for Data Scientist designation in Noida location. You have to scrape Company name, Number of salaries, Average salary, Min salary, Max Salary."
   ]
  },
  {
   "cell_type": "code",
   "execution_count": 45,
   "id": "eb38b6c1",
   "metadata": {},
   "outputs": [],
   "source": [
    "Driver2=webdriver.Chrome(\"chromedriver.exe\")\n"
   ]
  },
  {
   "cell_type": "code",
   "execution_count": 46,
   "id": "0741ba80",
   "metadata": {},
   "outputs": [],
   "source": [
    "url=\"https://www.glassdoor.co.in/Salaries/index.htm\" \n",
    "Driver2.get(url)"
   ]
  },
  {
   "cell_type": "code",
   "execution_count": 47,
   "id": "e90693a6",
   "metadata": {},
   "outputs": [],
   "source": [
    "search_job= Driver2.find_element_by_id('KeywordSearch')"
   ]
  },
  {
   "cell_type": "code",
   "execution_count": 48,
   "id": "84ba9273",
   "metadata": {},
   "outputs": [],
   "source": [
    "search_job.send_keys(\"Data Scientist\")"
   ]
  },
  {
   "cell_type": "code",
   "execution_count": 49,
   "id": "abd76939",
   "metadata": {},
   "outputs": [],
   "source": [
    "search_loc= Driver2.find_element_by_id('LocationSearch')"
   ]
  },
  {
   "cell_type": "code",
   "execution_count": 50,
   "id": "e1509d4e",
   "metadata": {},
   "outputs": [],
   "source": [
    "search_loc.send_keys(\"Noida\")"
   ]
  },
  {
   "cell_type": "code",
   "execution_count": 51,
   "id": "6287b61d",
   "metadata": {},
   "outputs": [],
   "source": [
    "search_btn= Driver2.find_element_by_xpath('//button[@class=\"gd-btn-mkt\"]')"
   ]
  },
  {
   "cell_type": "code",
   "execution_count": 52,
   "id": "16c06ed7",
   "metadata": {},
   "outputs": [],
   "source": [
    "search_btn.click()"
   ]
  },
  {
   "cell_type": "code",
   "execution_count": 53,
   "id": "35040768",
   "metadata": {},
   "outputs": [],
   "source": [
    "Company_name=[]\n",
    "Min_salary=[]\n",
    "Average_salary=[]\n",
    "Company_rating=[]\n",
    "company_name=Driver2.find_elements_by_xpath('//a[@class=\"css-f3vw95 e1aj7ssy3\"]')\n",
    "for i in company_name[0:10]:\n",
    "    Company_name.append(i.text)\n",
    "min_salary=Driver2.find_elements_by_xpath('//div[@class=\"d-flex mt-xxsm css-79elbk epuxyqn0\"]') \n",
    "for i in min_salary[0:10]:\n",
    "    Min_salary.append(i.text.replace('\\n','---'))\n",
    "average_salary=Driver2.find_elements_by_xpath('//div[@class=\"col-12 col-lg-4 px-lg-0 d-flex align-items-baseline\"]')\n",
    "for i in average_salary[0:10]:\n",
    "    Average_salary.append(i.text.replace('\\n',''))\n",
    "company_ratings=Driver2.find_elements_by_xpath('//span[@class=\"m-0 css-kyx745\"]')\n",
    "for i in company_ratings[0:10]:\n",
    "    Company_rating.append(i.text)\n"
   ]
  },
  {
   "cell_type": "code",
   "execution_count": 54,
   "id": "bc9a073b",
   "metadata": {},
   "outputs": [
    {
     "data": {
      "text/html": [
       "<div>\n",
       "<style scoped>\n",
       "    .dataframe tbody tr th:only-of-type {\n",
       "        vertical-align: middle;\n",
       "    }\n",
       "\n",
       "    .dataframe tbody tr th {\n",
       "        vertical-align: top;\n",
       "    }\n",
       "\n",
       "    .dataframe thead th {\n",
       "        text-align: right;\n",
       "    }\n",
       "</style>\n",
       "<table border=\"1\" class=\"dataframe\">\n",
       "  <thead>\n",
       "    <tr style=\"text-align: right;\">\n",
       "      <th></th>\n",
       "      <th>Company_Name</th>\n",
       "      <th>Min_Max_Salary</th>\n",
       "      <th>Average_Salary</th>\n",
       "      <th>Company_Rating</th>\n",
       "    </tr>\n",
       "  </thead>\n",
       "  <tbody>\n",
       "    <tr>\n",
       "      <th>0</th>\n",
       "      <td>Tata Consultancy Services</td>\n",
       "      <td>₹4L---₹13L</td>\n",
       "      <td>₹6,28,021 /yr</td>\n",
       "      <td>3.9</td>\n",
       "    </tr>\n",
       "    <tr>\n",
       "      <th>1</th>\n",
       "      <td>IBM</td>\n",
       "      <td>₹1L---₹28L</td>\n",
       "      <td>₹9,08,246 /yr</td>\n",
       "      <td>3.9</td>\n",
       "    </tr>\n",
       "    <tr>\n",
       "      <th>2</th>\n",
       "      <td>Accenture</td>\n",
       "      <td>₹6L---₹23L</td>\n",
       "      <td>₹11,93,390 /yr</td>\n",
       "      <td>4.1</td>\n",
       "    </tr>\n",
       "    <tr>\n",
       "      <th>3</th>\n",
       "      <td>Delhivery</td>\n",
       "      <td>₹5L---₹1Cr</td>\n",
       "      <td>₹12,49,716 /yr</td>\n",
       "      <td>3.7</td>\n",
       "    </tr>\n",
       "    <tr>\n",
       "      <th>4</th>\n",
       "      <td>Ericsson-Worldwide</td>\n",
       "      <td>₹4L---₹17L</td>\n",
       "      <td>₹7,58,335 /yr</td>\n",
       "      <td>4</td>\n",
       "    </tr>\n",
       "    <tr>\n",
       "      <th>5</th>\n",
       "      <td>UnitedHealth Group</td>\n",
       "      <td>₹8L---₹16L</td>\n",
       "      <td>₹12,80,000 /yr</td>\n",
       "      <td>3.7</td>\n",
       "    </tr>\n",
       "    <tr>\n",
       "      <th>6</th>\n",
       "      <td>Optum</td>\n",
       "      <td>₹8L---₹20L</td>\n",
       "      <td>₹12,70,000 /yr</td>\n",
       "      <td>3.7</td>\n",
       "    </tr>\n",
       "    <tr>\n",
       "      <th>7</th>\n",
       "      <td>Optum Global Solutions</td>\n",
       "      <td>₹10L---₹18L</td>\n",
       "      <td>₹14,55,430 /yr</td>\n",
       "      <td>3.9</td>\n",
       "    </tr>\n",
       "    <tr>\n",
       "      <th>8</th>\n",
       "      <td>Valiance Solutions</td>\n",
       "      <td>₹5L---₹15L</td>\n",
       "      <td>₹8,86,064 /yr</td>\n",
       "      <td>4.2</td>\n",
       "    </tr>\n",
       "    <tr>\n",
       "      <th>9</th>\n",
       "      <td>EXL Service</td>\n",
       "      <td>₹6L---₹16L</td>\n",
       "      <td>₹11,10,000 /yr</td>\n",
       "      <td>3.6</td>\n",
       "    </tr>\n",
       "  </tbody>\n",
       "</table>\n",
       "</div>"
      ],
      "text/plain": [
       "                Company_Name Min_Max_Salary  Average_Salary Company_Rating\n",
       "0  Tata Consultancy Services     ₹4L---₹13L   ₹6,28,021 /yr            3.9\n",
       "1                        IBM     ₹1L---₹28L   ₹9,08,246 /yr            3.9\n",
       "2                  Accenture     ₹6L---₹23L  ₹11,93,390 /yr            4.1\n",
       "3                  Delhivery     ₹5L---₹1Cr  ₹12,49,716 /yr            3.7\n",
       "4         Ericsson-Worldwide     ₹4L---₹17L   ₹7,58,335 /yr              4\n",
       "5         UnitedHealth Group     ₹8L---₹16L  ₹12,80,000 /yr            3.7\n",
       "6                      Optum     ₹8L---₹20L  ₹12,70,000 /yr            3.7\n",
       "7     Optum Global Solutions    ₹10L---₹18L  ₹14,55,430 /yr            3.9\n",
       "8         Valiance Solutions     ₹5L---₹15L   ₹8,86,064 /yr            4.2\n",
       "9                EXL Service     ₹6L---₹16L  ₹11,10,000 /yr            3.6"
      ]
     },
     "execution_count": 54,
     "metadata": {},
     "output_type": "execute_result"
    }
   ],
   "source": [
    "Salary_data=pd.DataFrame({})\n",
    "Salary_data['Company_Name']= Company_name\n",
    "Salary_data['Min_Max_Salary']= Min_salary\n",
    "Salary_data['Average_Salary']= Average_salary\n",
    "Salary_data['Company_Rating']=Company_rating\n",
    "Salary_data=Salary_data[0:10]\n",
    "Salary_data"
   ]
  },
  {
   "cell_type": "markdown",
   "id": "01db56e3",
   "metadata": {},
   "source": [
    "Q6 : Scrape data of first 100 sunglasses listings on flipkart.com. You have to scrape four attributes:\n",
    "\n",
    "1.Brand\n",
    "\n",
    "2.Product Description\n",
    "\n",
    "3.Price\n",
    "\n",
    "4.Discount %"
   ]
  },
  {
   "cell_type": "code",
   "execution_count": 55,
   "id": "81abd997",
   "metadata": {},
   "outputs": [],
   "source": [
    "Driver3=webdriver.Chrome(\"chromedriver.exe\")"
   ]
  },
  {
   "cell_type": "code",
   "execution_count": 56,
   "id": "91c904f1",
   "metadata": {},
   "outputs": [],
   "source": [
    "url=\"https://www.flipkart.com/\" \n",
    "Driver3.get(url)"
   ]
  },
  {
   "cell_type": "code",
   "execution_count": 57,
   "id": "12767042",
   "metadata": {},
   "outputs": [],
   "source": [
    "search_sunglasses= Driver3.find_element_by_xpath('//input[@class=\"_3704LK\"]')"
   ]
  },
  {
   "cell_type": "code",
   "execution_count": 58,
   "id": "36030753",
   "metadata": {},
   "outputs": [],
   "source": [
    "search_sunglasses.send_keys(\"sunglasses\")"
   ]
  },
  {
   "cell_type": "code",
   "execution_count": 59,
   "id": "1cb83ada",
   "metadata": {},
   "outputs": [],
   "source": [
    "search_btn=Driver3.find_element_by_xpath('//button[@class=\"L0Z3Pu\"]')"
   ]
  },
  {
   "cell_type": "code",
   "execution_count": 61,
   "id": "0cab6088",
   "metadata": {},
   "outputs": [],
   "source": [
    "search_btn.click()"
   ]
  },
  {
   "cell_type": "code",
   "execution_count": 62,
   "id": "725a7f59",
   "metadata": {},
   "outputs": [],
   "source": [
    "page1=Driver3.find_elements_by_xpath('//a[@class=\"ge-49M _2Kfbh8\"]')\n",
    "\n",
    "URl= Driver3.find_elements_by_xpath('//a[@class=\"ge-49M\"]')\n"
   ]
  },
  {
   "cell_type": "code",
   "execution_count": 63,
   "id": "616022bd",
   "metadata": {},
   "outputs": [],
   "source": [
    "urls=[]\n",
    "for i in page1:\n",
    "    urls.append(i.get_attribute('href'))\n",
    "urls\n",
    "\n",
    "for i in URl[0:2]:\n",
    "    urls.append(i.get_attribute('href'))"
   ]
  },
  {
   "cell_type": "code",
   "execution_count": 64,
   "id": "85d0b636",
   "metadata": {},
   "outputs": [],
   "source": [
    "Brand_name=[]\n",
    "Product_Description=[]\n",
    "Price=[]\n",
    "Discount=[]\n",
    "\n",
    "for i in urls:\n",
    "    Brand=Driver3.find_elements_by_xpath('//div[@class=\"_2WkVRV\"]')\n",
    "    for i in Brand:\n",
    "        Brand_name.append(i.text)\n",
    "\n",
    "    Product_Desc=Driver3.find_elements_by_xpath('//a[@class=\"IRpwTa\"]')\n",
    "    for i in Product_Desc:\n",
    "        Product_Description.append(i.text)\n",
    "    \n",
    "    price=Driver3.find_elements_by_xpath('//div[@class=\"_30jeq3\"]')\n",
    "    for i in price:\n",
    "        Price.append(i.text)\n",
    "    \n",
    "    discount=Driver3.find_elements_by_xpath('//div[@class=\"_3Ay6Sb\"]')\n",
    "    for i in discount:\n",
    "        Discount.append(i.text)"
   ]
  },
  {
   "cell_type": "code",
   "execution_count": 65,
   "id": "1b6eea92",
   "metadata": {},
   "outputs": [
    {
     "data": {
      "text/html": [
       "<div>\n",
       "<style scoped>\n",
       "    .dataframe tbody tr th:only-of-type {\n",
       "        vertical-align: middle;\n",
       "    }\n",
       "\n",
       "    .dataframe tbody tr th {\n",
       "        vertical-align: top;\n",
       "    }\n",
       "\n",
       "    .dataframe thead th {\n",
       "        text-align: right;\n",
       "    }\n",
       "</style>\n",
       "<table border=\"1\" class=\"dataframe\">\n",
       "  <thead>\n",
       "    <tr style=\"text-align: right;\">\n",
       "      <th></th>\n",
       "      <th>Brand_name</th>\n",
       "      <th>Product_Description</th>\n",
       "      <th>Price</th>\n",
       "      <th>Discount</th>\n",
       "    </tr>\n",
       "  </thead>\n",
       "  <tbody>\n",
       "    <tr>\n",
       "      <th>0</th>\n",
       "      <td>VOYAGE</td>\n",
       "      <td>Gradient, UV Protection Wayfarer Sunglasses (52)</td>\n",
       "      <td>₹565</td>\n",
       "      <td>68% off</td>\n",
       "    </tr>\n",
       "    <tr>\n",
       "      <th>1</th>\n",
       "      <td>Singco India</td>\n",
       "      <td>Mirrored, UV Protection, Riding Glasses, Other...</td>\n",
       "      <td>₹331</td>\n",
       "      <td>83% off</td>\n",
       "    </tr>\n",
       "    <tr>\n",
       "      <th>2</th>\n",
       "      <td>SHAAH COLLECTIONS</td>\n",
       "      <td>UV Protection, Polarized, Mirrored Rectangular...</td>\n",
       "      <td>₹198</td>\n",
       "      <td>88% off</td>\n",
       "    </tr>\n",
       "    <tr>\n",
       "      <th>3</th>\n",
       "      <td>Elligator</td>\n",
       "      <td>UV Protection Round Sunglasses (54)</td>\n",
       "      <td>₹295</td>\n",
       "      <td>88% off</td>\n",
       "    </tr>\n",
       "    <tr>\n",
       "      <th>4</th>\n",
       "      <td>kingsunglasses</td>\n",
       "      <td>Mirrored, UV Protection Wayfarer Sunglasses (F...</td>\n",
       "      <td>₹284</td>\n",
       "      <td>89% off</td>\n",
       "    </tr>\n",
       "    <tr>\n",
       "      <th>...</th>\n",
       "      <td>...</td>\n",
       "      <td>...</td>\n",
       "      <td>...</td>\n",
       "      <td>...</td>\n",
       "    </tr>\n",
       "    <tr>\n",
       "      <th>95</th>\n",
       "      <td>AISLIN</td>\n",
       "      <td>UV Protection, Gradient Oval Sunglasses (58)</td>\n",
       "      <td>₹498</td>\n",
       "      <td>67% off</td>\n",
       "    </tr>\n",
       "    <tr>\n",
       "      <th>96</th>\n",
       "      <td>PIRASO</td>\n",
       "      <td>UV Protection Aviator Sunglasses (54)</td>\n",
       "      <td>₹237</td>\n",
       "      <td>85% off</td>\n",
       "    </tr>\n",
       "    <tr>\n",
       "      <th>97</th>\n",
       "      <td>ROYAL SON</td>\n",
       "      <td>UV Protection Rectangular Sunglasses (58)</td>\n",
       "      <td>₹474</td>\n",
       "      <td>68% off</td>\n",
       "    </tr>\n",
       "    <tr>\n",
       "      <th>98</th>\n",
       "      <td>Fastrack</td>\n",
       "      <td>UV Protection Aviator Sunglasses (Free Size)</td>\n",
       "      <td>₹520</td>\n",
       "      <td>34% off</td>\n",
       "    </tr>\n",
       "    <tr>\n",
       "      <th>99</th>\n",
       "      <td>NuVew</td>\n",
       "      <td>UV Protection Cat-eye Sunglasses (60)</td>\n",
       "      <td>₹403</td>\n",
       "      <td>72% off</td>\n",
       "    </tr>\n",
       "  </tbody>\n",
       "</table>\n",
       "<p>100 rows × 4 columns</p>\n",
       "</div>"
      ],
      "text/plain": [
       "           Brand_name                                Product_Description  \\\n",
       "0              VOYAGE   Gradient, UV Protection Wayfarer Sunglasses (52)   \n",
       "1        Singco India  Mirrored, UV Protection, Riding Glasses, Other...   \n",
       "2   SHAAH COLLECTIONS  UV Protection, Polarized, Mirrored Rectangular...   \n",
       "3           Elligator                UV Protection Round Sunglasses (54)   \n",
       "4      kingsunglasses  Mirrored, UV Protection Wayfarer Sunglasses (F...   \n",
       "..                ...                                                ...   \n",
       "95             AISLIN       UV Protection, Gradient Oval Sunglasses (58)   \n",
       "96             PIRASO              UV Protection Aviator Sunglasses (54)   \n",
       "97          ROYAL SON          UV Protection Rectangular Sunglasses (58)   \n",
       "98           Fastrack       UV Protection Aviator Sunglasses (Free Size)   \n",
       "99              NuVew              UV Protection Cat-eye Sunglasses (60)   \n",
       "\n",
       "   Price Discount  \n",
       "0   ₹565  68% off  \n",
       "1   ₹331  83% off  \n",
       "2   ₹198  88% off  \n",
       "3   ₹295  88% off  \n",
       "4   ₹284  89% off  \n",
       "..   ...      ...  \n",
       "95  ₹498  67% off  \n",
       "96  ₹237  85% off  \n",
       "97  ₹474  68% off  \n",
       "98  ₹520  34% off  \n",
       "99  ₹403  72% off  \n",
       "\n",
       "[100 rows x 4 columns]"
      ]
     },
     "execution_count": 65,
     "metadata": {},
     "output_type": "execute_result"
    }
   ],
   "source": [
    "SunGlass_data=pd.DataFrame({})\n",
    "SunGlass_data['Brand_name']=Brand_name[0:100]\n",
    "SunGlass_data['Product_Description']=Product_Description[0:100]\n",
    "SunGlass_data['Price']= Price[0:100]\n",
    "SunGlass_data['Discount']=Discount[0:100]\n",
    "SunGlass_data"
   ]
  },
  {
   "cell_type": "markdown",
   "id": "60257240",
   "metadata": {},
   "source": [
    "Q7: Scrape 100 reviews data from flipkart.com for iphone11 phone. You have to go the link: https://www.flipkart.com/apple-iphone-11-black-64-gb-includes-earpods-power-adapter/p/itm0f37c2240b217?pid=MOBFKCTSVZAXUHGR&lid=LSTMOBFKCTSVZAXUHGREPBFGI&marketplace."
   ]
  },
  {
   "cell_type": "code",
   "execution_count": 66,
   "id": "51f0757f",
   "metadata": {},
   "outputs": [],
   "source": [
    "Driver5 = webdriver.Chrome('chromedriver.exe')\n",
    "url= \"https://www.flipkart.com/apple-iphone-11-black-64-gb-includes-earpods-power-adapter/p/itm0f37c2240b217?pid=MOBFKCTSVZAXUHGR&lid=LSTMOBFKCTSVZAXUHGREPBFGI&marketplace\"\n",
    "Driver5.get(url)"
   ]
  },
  {
   "cell_type": "code",
   "execution_count": 67,
   "id": "203d31af",
   "metadata": {},
   "outputs": [],
   "source": [
    "page1=Driver5.find_element_by_xpath('//a[@class=\"ge-49M _2Kfbh8\"]')\n",
    "\n",
    "URl= Driver5.find_elements_by_xpath('//a[@class=\"ge-49M\"]')"
   ]
  },
  {
   "cell_type": "code",
   "execution_count": 68,
   "id": "2a167031",
   "metadata": {},
   "outputs": [
    {
     "data": {
      "text/plain": [
       "<selenium.webdriver.remote.webelement.WebElement (session=\"756a0e790706e1eb84fbc8882e9f3dba\", element=\"14cd9826-fccd-4be5-a2a0-1a9222240786\")>"
      ]
     },
     "execution_count": 68,
     "metadata": {},
     "output_type": "execute_result"
    }
   ],
   "source": [
    "page1"
   ]
  },
  {
   "cell_type": "code",
   "execution_count": 69,
   "id": "c3eadd7b",
   "metadata": {},
   "outputs": [
    {
     "data": {
      "text/plain": [
       "[<selenium.webdriver.remote.webelement.WebElement (session=\"756a0e790706e1eb84fbc8882e9f3dba\", element=\"6ce2191d-6053-4811-8fde-736ea0c022bc\")>,\n",
       " <selenium.webdriver.remote.webelement.WebElement (session=\"756a0e790706e1eb84fbc8882e9f3dba\", element=\"bcc0651e-6d27-4dc4-81c4-6725905b0581\")>,\n",
       " <selenium.webdriver.remote.webelement.WebElement (session=\"756a0e790706e1eb84fbc8882e9f3dba\", element=\"83c4b916-736c-4357-ba42-aaf034e70028\")>,\n",
       " <selenium.webdriver.remote.webelement.WebElement (session=\"756a0e790706e1eb84fbc8882e9f3dba\", element=\"184ce65f-315c-4d4c-9760-a1bd9120910b\")>,\n",
       " <selenium.webdriver.remote.webelement.WebElement (session=\"756a0e790706e1eb84fbc8882e9f3dba\", element=\"96c55a4a-d95e-4078-b899-9d171dcfcd80\")>,\n",
       " <selenium.webdriver.remote.webelement.WebElement (session=\"756a0e790706e1eb84fbc8882e9f3dba\", element=\"c34431b9-ff73-44e1-aa2c-de02e92c0b90\")>,\n",
       " <selenium.webdriver.remote.webelement.WebElement (session=\"756a0e790706e1eb84fbc8882e9f3dba\", element=\"085af664-5082-42b8-b6e7-b4e67cd0df43\")>,\n",
       " <selenium.webdriver.remote.webelement.WebElement (session=\"756a0e790706e1eb84fbc8882e9f3dba\", element=\"3771635c-3750-41c7-9d2f-035bf42b32a4\")>,\n",
       " <selenium.webdriver.remote.webelement.WebElement (session=\"756a0e790706e1eb84fbc8882e9f3dba\", element=\"a91c57af-96fe-4cc7-b738-ddb9f46d52c4\")>]"
      ]
     },
     "execution_count": 69,
     "metadata": {},
     "output_type": "execute_result"
    }
   ],
   "source": [
    "URl"
   ]
  },
  {
   "cell_type": "code",
   "execution_count": 70,
   "id": "3f93bbc3",
   "metadata": {},
   "outputs": [],
   "source": [
    "urls=[]\n",
    "urls.append(page1.get_attribute('href'))\n",
    "\n",
    "for i in URl:\n",
    "    urls.append(i.get_attribute('href'))"
   ]
  },
  {
   "cell_type": "code",
   "execution_count": 71,
   "id": "64d266fa",
   "metadata": {},
   "outputs": [
    {
     "data": {
      "text/plain": [
       "['https://www.flipkart.com/apple-iphone-11-black-64-gb-includes-earpods-power-adapter/product-reviews/itm0f37c2240b217?pid=MOBFKCTSVZAXUHGR&lid=LSTMOBFKCTSVZAXUHGREPBFGI&marketplace=FLIPKART&page=1',\n",
       " 'https://www.flipkart.com/apple-iphone-11-black-64-gb-includes-earpods-power-adapter/product-reviews/itm0f37c2240b217?pid=MOBFKCTSVZAXUHGR&lid=LSTMOBFKCTSVZAXUHGREPBFGI&marketplace=FLIPKART&page=2',\n",
       " 'https://www.flipkart.com/apple-iphone-11-black-64-gb-includes-earpods-power-adapter/product-reviews/itm0f37c2240b217?pid=MOBFKCTSVZAXUHGR&lid=LSTMOBFKCTSVZAXUHGREPBFGI&marketplace=FLIPKART&page=3',\n",
       " 'https://www.flipkart.com/apple-iphone-11-black-64-gb-includes-earpods-power-adapter/product-reviews/itm0f37c2240b217?pid=MOBFKCTSVZAXUHGR&lid=LSTMOBFKCTSVZAXUHGREPBFGI&marketplace=FLIPKART&page=4',\n",
       " 'https://www.flipkart.com/apple-iphone-11-black-64-gb-includes-earpods-power-adapter/product-reviews/itm0f37c2240b217?pid=MOBFKCTSVZAXUHGR&lid=LSTMOBFKCTSVZAXUHGREPBFGI&marketplace=FLIPKART&page=5',\n",
       " 'https://www.flipkart.com/apple-iphone-11-black-64-gb-includes-earpods-power-adapter/product-reviews/itm0f37c2240b217?pid=MOBFKCTSVZAXUHGR&lid=LSTMOBFKCTSVZAXUHGREPBFGI&marketplace=FLIPKART&page=6',\n",
       " 'https://www.flipkart.com/apple-iphone-11-black-64-gb-includes-earpods-power-adapter/product-reviews/itm0f37c2240b217?pid=MOBFKCTSVZAXUHGR&lid=LSTMOBFKCTSVZAXUHGREPBFGI&marketplace=FLIPKART&page=7',\n",
       " 'https://www.flipkart.com/apple-iphone-11-black-64-gb-includes-earpods-power-adapter/product-reviews/itm0f37c2240b217?pid=MOBFKCTSVZAXUHGR&lid=LSTMOBFKCTSVZAXUHGREPBFGI&marketplace=FLIPKART&page=8',\n",
       " 'https://www.flipkart.com/apple-iphone-11-black-64-gb-includes-earpods-power-adapter/product-reviews/itm0f37c2240b217?pid=MOBFKCTSVZAXUHGR&lid=LSTMOBFKCTSVZAXUHGREPBFGI&marketplace=FLIPKART&page=9',\n",
       " 'https://www.flipkart.com/apple-iphone-11-black-64-gb-includes-earpods-power-adapter/product-reviews/itm0f37c2240b217?pid=MOBFKCTSVZAXUHGR&lid=LSTMOBFKCTSVZAXUHGREPBFGI&marketplace=FLIPKART&page=10']"
      ]
     },
     "execution_count": 71,
     "metadata": {},
     "output_type": "execute_result"
    }
   ],
   "source": [
    "urls"
   ]
  },
  {
   "cell_type": "code",
   "execution_count": 72,
   "id": "1a3f0b23",
   "metadata": {},
   "outputs": [],
   "source": [
    "Rating=[]\n",
    "Review_summary=[]\n",
    "Full_review=[]\n",
    "\n",
    "for i in urls:\n",
    "    \n",
    "    Ratings=Driver5.find_elements_by_xpath('//div[@class=\"_3LWZlK _1BLPMq\"]')\n",
    "    \n",
    "    for i in Ratings:\n",
    "        Rating.append(i.text)\n",
    "        \n",
    "    review_summary=Driver5.find_elements_by_xpath('//p[@class=\"_2-N8zT\"]')\n",
    "    \n",
    "    for i in review_summary:\n",
    "        Review_summary.append(i.text)\n",
    "        \n",
    "    full_review=Driver5.find_elements_by_xpath('//div[@class=\"t-ZTKy\"]')\n",
    "    \n",
    "    for i in full_review:\n",
    "        Full_review.append(i.text)"
   ]
  },
  {
   "cell_type": "code",
   "execution_count": 73,
   "id": "7d52d0ac",
   "metadata": {},
   "outputs": [
    {
     "data": {
      "text/html": [
       "<div>\n",
       "<style scoped>\n",
       "    .dataframe tbody tr th:only-of-type {\n",
       "        vertical-align: middle;\n",
       "    }\n",
       "\n",
       "    .dataframe tbody tr th {\n",
       "        vertical-align: top;\n",
       "    }\n",
       "\n",
       "    .dataframe thead th {\n",
       "        text-align: right;\n",
       "    }\n",
       "</style>\n",
       "<table border=\"1\" class=\"dataframe\">\n",
       "  <thead>\n",
       "    <tr style=\"text-align: right;\">\n",
       "      <th></th>\n",
       "      <th>Rating</th>\n",
       "      <th>Review_summary</th>\n",
       "      <th>Full_review</th>\n",
       "    </tr>\n",
       "  </thead>\n",
       "  <tbody>\n",
       "    <tr>\n",
       "      <th>0</th>\n",
       "      <td>5</td>\n",
       "      <td>Brilliant</td>\n",
       "      <td>The Best Phone for the Money\\n\\nThe iPhone 11 ...</td>\n",
       "    </tr>\n",
       "    <tr>\n",
       "      <th>1</th>\n",
       "      <td>5</td>\n",
       "      <td>Simply awesome</td>\n",
       "      <td>Really satisfied with the Product I received.....</td>\n",
       "    </tr>\n",
       "    <tr>\n",
       "      <th>2</th>\n",
       "      <td>5</td>\n",
       "      <td>Best in the market!</td>\n",
       "      <td>Great iPhone very snappy experience as apple k...</td>\n",
       "    </tr>\n",
       "    <tr>\n",
       "      <th>3</th>\n",
       "      <td>5</td>\n",
       "      <td>Perfect product!</td>\n",
       "      <td>Amazing phone with great cameras and better ba...</td>\n",
       "    </tr>\n",
       "    <tr>\n",
       "      <th>4</th>\n",
       "      <td>5</td>\n",
       "      <td>Worth every penny</td>\n",
       "      <td>Previously I was using one plus 3t it was a gr...</td>\n",
       "    </tr>\n",
       "    <tr>\n",
       "      <th>...</th>\n",
       "      <td>...</td>\n",
       "      <td>...</td>\n",
       "      <td>...</td>\n",
       "    </tr>\n",
       "    <tr>\n",
       "      <th>95</th>\n",
       "      <td>5</td>\n",
       "      <td>Fabulous!</td>\n",
       "      <td>This is my first iOS phone. I am very happy wi...</td>\n",
       "    </tr>\n",
       "    <tr>\n",
       "      <th>96</th>\n",
       "      <td>5</td>\n",
       "      <td>Great product</td>\n",
       "      <td>Amazing Powerful and Durable Gadget.\\n\\nI’m am...</td>\n",
       "    </tr>\n",
       "    <tr>\n",
       "      <th>97</th>\n",
       "      <td>4</td>\n",
       "      <td>Good choice</td>\n",
       "      <td>So far it’s been an AMAZING experience coming ...</td>\n",
       "    </tr>\n",
       "    <tr>\n",
       "      <th>98</th>\n",
       "      <td>5</td>\n",
       "      <td>Worth every penny</td>\n",
       "      <td>i11 is worthy to buy, too much happy with the ...</td>\n",
       "    </tr>\n",
       "    <tr>\n",
       "      <th>99</th>\n",
       "      <td>5</td>\n",
       "      <td>Highly recommended</td>\n",
       "      <td>iphone 11 is a very good phone to buy only if ...</td>\n",
       "    </tr>\n",
       "  </tbody>\n",
       "</table>\n",
       "<p>100 rows × 3 columns</p>\n",
       "</div>"
      ],
      "text/plain": [
       "   Rating       Review_summary  \\\n",
       "0       5            Brilliant   \n",
       "1       5       Simply awesome   \n",
       "2       5  Best in the market!   \n",
       "3       5     Perfect product!   \n",
       "4       5    Worth every penny   \n",
       "..    ...                  ...   \n",
       "95      5            Fabulous!   \n",
       "96      5        Great product   \n",
       "97      4          Good choice   \n",
       "98      5    Worth every penny   \n",
       "99      5   Highly recommended   \n",
       "\n",
       "                                          Full_review  \n",
       "0   The Best Phone for the Money\\n\\nThe iPhone 11 ...  \n",
       "1   Really satisfied with the Product I received.....  \n",
       "2   Great iPhone very snappy experience as apple k...  \n",
       "3   Amazing phone with great cameras and better ba...  \n",
       "4   Previously I was using one plus 3t it was a gr...  \n",
       "..                                                ...  \n",
       "95  This is my first iOS phone. I am very happy wi...  \n",
       "96  Amazing Powerful and Durable Gadget.\\n\\nI’m am...  \n",
       "97  So far it’s been an AMAZING experience coming ...  \n",
       "98  i11 is worthy to buy, too much happy with the ...  \n",
       "99  iphone 11 is a very good phone to buy only if ...  \n",
       "\n",
       "[100 rows x 3 columns]"
      ]
     },
     "execution_count": 73,
     "metadata": {},
     "output_type": "execute_result"
    }
   ],
   "source": [
    "Phone_rating=pd.DataFrame({})\n",
    "Phone_rating['Rating']=Rating\n",
    "Phone_rating['Review_summary']=Review_summary\n",
    "Phone_rating['Full_review']= Full_review\n",
    "Phone_rating"
   ]
  },
  {
   "cell_type": "markdown",
   "id": "5dd06aee",
   "metadata": {},
   "source": [
    "Q8: Scrape data for first 100 sneakers you find when you visit flipkart.com and search for “sneakers” in the search field. You have to scrape 4 attributes of each sneaker :\n",
    "\n",
    "1.Brand\n",
    "\n",
    "2.Product Description\n",
    "\n",
    "3.Price\n",
    "\n",
    "4.discount %"
   ]
  },
  {
   "cell_type": "code",
   "execution_count": 125,
   "id": "909bdcb2",
   "metadata": {},
   "outputs": [],
   "source": [
    "Driver4=webdriver.Chrome(\"chromedriver.exe\")"
   ]
  },
  {
   "cell_type": "code",
   "execution_count": 126,
   "id": "5203e4d8",
   "metadata": {},
   "outputs": [],
   "source": [
    "url=\"https://www.flipkart.com/\" \n",
    "Driver4.get(url)"
   ]
  },
  {
   "cell_type": "code",
   "execution_count": 127,
   "id": "ae36169d",
   "metadata": {},
   "outputs": [],
   "source": [
    "search_sneakers= Driver4.find_element_by_xpath('//input[@class=\"_3704LK\"]')"
   ]
  },
  {
   "cell_type": "code",
   "execution_count": 128,
   "id": "ee1a8fc9",
   "metadata": {},
   "outputs": [],
   "source": [
    "search_sneakers.send_keys(\"sneakers\")"
   ]
  },
  {
   "cell_type": "code",
   "execution_count": 129,
   "id": "ab6be106",
   "metadata": {},
   "outputs": [
    {
     "data": {
      "text/plain": [
       "<selenium.webdriver.remote.webelement.WebElement (session=\"cedcb6fe0d4b2f853be2647edad4c05d\", element=\"54463cd9-9489-4cf6-9315-1ab2fae5018f\")>"
      ]
     },
     "execution_count": 129,
     "metadata": {},
     "output_type": "execute_result"
    }
   ],
   "source": [
    "search_btn=Driver4.find_element_by_xpath('//button[@class=\"L0Z3Pu\"]')\n",
    "search_btn"
   ]
  },
  {
   "cell_type": "code",
   "execution_count": 130,
   "id": "6dcca92d",
   "metadata": {},
   "outputs": [],
   "source": [
    "search_btn.click()"
   ]
  },
  {
   "cell_type": "code",
   "execution_count": 131,
   "id": "8d4ac40d",
   "metadata": {},
   "outputs": [],
   "source": [
    "page1=Driver4.find_element_by_xpath('//a[@class=\"ge-49M _2Kfbh8\"]')\n",
    "\n",
    "URl= Driver4.find_elements_by_xpath('//a[@class=\"ge-49M\"]')"
   ]
  },
  {
   "cell_type": "code",
   "execution_count": 132,
   "id": "3f665044",
   "metadata": {},
   "outputs": [
    {
     "data": {
      "text/plain": [
       "<selenium.webdriver.remote.webelement.WebElement (session=\"cedcb6fe0d4b2f853be2647edad4c05d\", element=\"a53644a4-f834-4ab8-b39f-bd5fc7ed15b0\")>"
      ]
     },
     "execution_count": 132,
     "metadata": {},
     "output_type": "execute_result"
    }
   ],
   "source": [
    "page1"
   ]
  },
  {
   "cell_type": "code",
   "execution_count": 133,
   "id": "57895799",
   "metadata": {},
   "outputs": [
    {
     "data": {
      "text/plain": [
       "[<selenium.webdriver.remote.webelement.WebElement (session=\"cedcb6fe0d4b2f853be2647edad4c05d\", element=\"e94360b1-a84e-480c-94f0-d9aa0af45afe\")>,\n",
       " <selenium.webdriver.remote.webelement.WebElement (session=\"cedcb6fe0d4b2f853be2647edad4c05d\", element=\"bd292d3e-8c99-4274-b8e6-401e9c0ffd0d\")>,\n",
       " <selenium.webdriver.remote.webelement.WebElement (session=\"cedcb6fe0d4b2f853be2647edad4c05d\", element=\"e1977e2a-4d3c-4901-9814-30709dd8708a\")>,\n",
       " <selenium.webdriver.remote.webelement.WebElement (session=\"cedcb6fe0d4b2f853be2647edad4c05d\", element=\"23d95032-6be6-4617-b9c3-1b851e4d5e1f\")>,\n",
       " <selenium.webdriver.remote.webelement.WebElement (session=\"cedcb6fe0d4b2f853be2647edad4c05d\", element=\"bd1e2d54-3955-4f4b-b6e9-50f54f7033a8\")>,\n",
       " <selenium.webdriver.remote.webelement.WebElement (session=\"cedcb6fe0d4b2f853be2647edad4c05d\", element=\"d0e89d9a-a359-475e-b868-bb52f1dc5f9b\")>,\n",
       " <selenium.webdriver.remote.webelement.WebElement (session=\"cedcb6fe0d4b2f853be2647edad4c05d\", element=\"dc1b3d26-ee18-4dc5-8bec-369760358e8b\")>,\n",
       " <selenium.webdriver.remote.webelement.WebElement (session=\"cedcb6fe0d4b2f853be2647edad4c05d\", element=\"fbe146a7-e520-42b0-9e5b-55e0ca46aa32\")>,\n",
       " <selenium.webdriver.remote.webelement.WebElement (session=\"cedcb6fe0d4b2f853be2647edad4c05d\", element=\"67a87483-7e28-49b5-96c1-896d057411d8\")>]"
      ]
     },
     "execution_count": 133,
     "metadata": {},
     "output_type": "execute_result"
    }
   ],
   "source": [
    "URl"
   ]
  },
  {
   "cell_type": "code",
   "execution_count": 134,
   "id": "01870dec",
   "metadata": {},
   "outputs": [],
   "source": [
    "urls=[]\n",
    "\n",
    "urls.append(page1.get_attribute('href'))\n",
    "\n",
    "\n",
    "for i in URl[0:2]:\n",
    "    urls.append(i.get_attribute('href'))"
   ]
  },
  {
   "cell_type": "code",
   "execution_count": 135,
   "id": "0a7e429f",
   "metadata": {},
   "outputs": [],
   "source": [
    "Brand_name=[]\n",
    "Product_Description=[]\n",
    "Price=[]\n",
    "Discount=[]\n",
    "\n",
    "for i in urls:\n",
    "    Brand=Driver4.find_elements_by_xpath('//div[@class=\"_2WkVRV\"]')\n",
    "    for i in Brand:\n",
    "        Brand_name.append(i.text)\n",
    "\n",
    "    Product_Desc=Driver4.find_elements_by_xpath('//a[@class=\"IRpwTa\"]')\n",
    "    for i in Product_Desc:\n",
    "        Product_Description.append(i.text)\n",
    "    \n",
    "    price=Driver4.find_elements_by_xpath('//div[@class=\"_30jeq3\"]')\n",
    "    for i in price:\n",
    "        Price.append(i.text)\n",
    "    \n",
    "    discount=Driver4.find_elements_by_xpath('//div[@class=\"_3Ay6Sb\"]')\n",
    "    for i in discount:\n",
    "        Discount.append(i.text)\n",
    "        "
   ]
  },
  {
   "cell_type": "code",
   "execution_count": 136,
   "id": "dd36daf2",
   "metadata": {},
   "outputs": [
    {
     "data": {
      "text/html": [
       "<div>\n",
       "<style scoped>\n",
       "    .dataframe tbody tr th:only-of-type {\n",
       "        vertical-align: middle;\n",
       "    }\n",
       "\n",
       "    .dataframe tbody tr th {\n",
       "        vertical-align: top;\n",
       "    }\n",
       "\n",
       "    .dataframe thead th {\n",
       "        text-align: right;\n",
       "    }\n",
       "</style>\n",
       "<table border=\"1\" class=\"dataframe\">\n",
       "  <thead>\n",
       "    <tr style=\"text-align: right;\">\n",
       "      <th></th>\n",
       "      <th>Brand_name</th>\n",
       "      <th>Product_Description</th>\n",
       "      <th>Price</th>\n",
       "      <th>Discount</th>\n",
       "    </tr>\n",
       "  </thead>\n",
       "  <tbody>\n",
       "    <tr>\n",
       "      <th>0</th>\n",
       "      <td>DUCATI</td>\n",
       "      <td>Sneakers For Men</td>\n",
       "      <td>₹1,499</td>\n",
       "      <td>59% off</td>\n",
       "    </tr>\n",
       "    <tr>\n",
       "      <th>1</th>\n",
       "      <td>Echor</td>\n",
       "      <td>Mens Walking Running Shoes - Lightweight Breat...</td>\n",
       "      <td>₹399</td>\n",
       "      <td>60% off</td>\n",
       "    </tr>\n",
       "    <tr>\n",
       "      <th>2</th>\n",
       "      <td>Magnolia</td>\n",
       "      <td>Sneakers For Men</td>\n",
       "      <td>₹356</td>\n",
       "      <td>64% off</td>\n",
       "    </tr>\n",
       "    <tr>\n",
       "      <th>3</th>\n",
       "      <td>BRUTON</td>\n",
       "      <td>Combo Pack Of 4 Casual Shoes Loafer Shoes Snea...</td>\n",
       "      <td>₹474</td>\n",
       "      <td>86% off</td>\n",
       "    </tr>\n",
       "    <tr>\n",
       "      <th>4</th>\n",
       "      <td>Longwalk</td>\n",
       "      <td>Men Boxer Sneakers For Men</td>\n",
       "      <td>₹236</td>\n",
       "      <td>52% off</td>\n",
       "    </tr>\n",
       "    <tr>\n",
       "      <th>...</th>\n",
       "      <td>...</td>\n",
       "      <td>...</td>\n",
       "      <td>...</td>\n",
       "      <td>...</td>\n",
       "    </tr>\n",
       "    <tr>\n",
       "      <th>95</th>\n",
       "      <td>India hub</td>\n",
       "      <td>Sneakers For Men</td>\n",
       "      <td>₹399</td>\n",
       "      <td>80% off</td>\n",
       "    </tr>\n",
       "    <tr>\n",
       "      <th>96</th>\n",
       "      <td>Shoes Bank</td>\n",
       "      <td>Sneakers For Men</td>\n",
       "      <td>₹349</td>\n",
       "      <td>65% off</td>\n",
       "    </tr>\n",
       "    <tr>\n",
       "      <th>97</th>\n",
       "      <td>Numenzo</td>\n",
       "      <td>Luxury Fashionable Breathable Casual Sneakers ...</td>\n",
       "      <td>₹449</td>\n",
       "      <td>65% off</td>\n",
       "    </tr>\n",
       "    <tr>\n",
       "      <th>98</th>\n",
       "      <td>Kraasa</td>\n",
       "      <td>Casual shoes,Sneakers for men's,shoes for men'...</td>\n",
       "      <td>₹444</td>\n",
       "      <td>55% off</td>\n",
       "    </tr>\n",
       "    <tr>\n",
       "      <th>99</th>\n",
       "      <td>Echor</td>\n",
       "      <td>Sneakers For Men</td>\n",
       "      <td>₹429</td>\n",
       "      <td>57% off</td>\n",
       "    </tr>\n",
       "  </tbody>\n",
       "</table>\n",
       "<p>100 rows × 4 columns</p>\n",
       "</div>"
      ],
      "text/plain": [
       "    Brand_name                                Product_Description   Price  \\\n",
       "0       DUCATI                                   Sneakers For Men  ₹1,499   \n",
       "1        Echor  Mens Walking Running Shoes - Lightweight Breat...    ₹399   \n",
       "2     Magnolia                                   Sneakers For Men    ₹356   \n",
       "3       BRUTON  Combo Pack Of 4 Casual Shoes Loafer Shoes Snea...    ₹474   \n",
       "4     Longwalk                         Men Boxer Sneakers For Men    ₹236   \n",
       "..         ...                                                ...     ...   \n",
       "95   India hub                                   Sneakers For Men    ₹399   \n",
       "96  Shoes Bank                                   Sneakers For Men    ₹349   \n",
       "97     Numenzo  Luxury Fashionable Breathable Casual Sneakers ...    ₹449   \n",
       "98      Kraasa  Casual shoes,Sneakers for men's,shoes for men'...    ₹444   \n",
       "99       Echor                                   Sneakers For Men    ₹429   \n",
       "\n",
       "   Discount  \n",
       "0   59% off  \n",
       "1   60% off  \n",
       "2   64% off  \n",
       "3   86% off  \n",
       "4   52% off  \n",
       "..      ...  \n",
       "95  80% off  \n",
       "96  65% off  \n",
       "97  65% off  \n",
       "98  55% off  \n",
       "99  57% off  \n",
       "\n",
       "[100 rows x 4 columns]"
      ]
     },
     "execution_count": 136,
     "metadata": {},
     "output_type": "execute_result"
    }
   ],
   "source": [
    "sneakers_data=pd.DataFrame({})\n",
    "sneakers_data['Brand_name']=Brand_name[0:100]\n",
    "sneakers_data['Product_Description']=Product_Description[0:100]\n",
    "sneakers_data['Price']= Price[0:100]\n",
    "sneakers_data['Discount']=Discount[0:100]\n",
    "sneakers_data"
   ]
  },
  {
   "cell_type": "markdown",
   "id": "9c3bf3f9",
   "metadata": {},
   "source": [
    "Q9: Go to the link - https://www.myntra.com/shoes Set Price filter to “Rs. 6649 to Rs. 13099” , Color filter to “Black”, as shown in the below image . And then scrape First 100 shoes data you get. The data should include “Brand” of the shoes , Short Shoe description, price of the shoe as shown in the below image. Please"
   ]
  },
  {
   "cell_type": "code",
   "execution_count": 110,
   "id": "2f3b0962",
   "metadata": {},
   "outputs": [],
   "source": [
    "Driver6= webdriver.Chrome(\"chromedriver.exe\")\n",
    "url=\"https://www.myntra.com/shoes\" \n",
    "Driver6.get(url)"
   ]
  },
  {
   "cell_type": "code",
   "execution_count": 111,
   "id": "e4dc8da4",
   "metadata": {},
   "outputs": [
    {
     "data": {
      "text/plain": [
       "<selenium.webdriver.remote.webelement.WebElement (session=\"27d11e7bb6d1a9179a74baa9a955d2a3\", element=\"a5da549b-f524-4158-b6df-3f066ec0760e\")>"
      ]
     },
     "execution_count": 111,
     "metadata": {},
     "output_type": "execute_result"
    }
   ],
   "source": [
    "Price_range=Driver6.find_element_by_xpath('//input[@class=\"price-input\" and @value=\"6897.0 TO 13595.0\"]')\n",
    "Price_range"
   ]
  },
  {
   "cell_type": "code",
   "execution_count": 112,
   "id": "93244ea3",
   "metadata": {},
   "outputs": [],
   "source": [
    "Color_range=Driver6.find_element_by_xpath('//span[@data-colorhex=\"black\"]')\n",
    "Color_range.click()"
   ]
  },
  {
   "cell_type": "code",
   "execution_count": 113,
   "id": "0410990a",
   "metadata": {},
   "outputs": [],
   "source": [
    "Next_btn= Driver6.find_element_by_xpath('//li[@class=\"pagination-next\"]')"
   ]
  },
  {
   "cell_type": "code",
   "execution_count": 116,
   "id": "001d2816",
   "metadata": {},
   "outputs": [],
   "source": [
    "Brand=[]\n",
    "Short_summary=[]\n",
    "Price=[]\n",
    "\n",
    "for i in range(1,3):\n",
    "    brand=Driver6.find_elements_by_xpath('//h3[@class=\"product-brand\"]')\n",
    "    for i in brand:\n",
    "        Brand.append(i.text)\n",
    "        \n",
    "    short_summary=Driver6.find_elements_by_xpath('//h4[@class=\"product-product\"]')\n",
    "    \n",
    "    for i in short_summary:\n",
    "        Short_summary.append(i.text)\n",
    "        \n",
    "    price=Driver6.find_elements_by_xpath('//div[@class=\"product-price\"]')\n",
    "    \n",
    "    for i in price:\n",
    "        Price.append(i.text)\n",
    "    \n",
    "Next_btn.click()"
   ]
  },
  {
   "cell_type": "code",
   "execution_count": 117,
   "id": "f8dc053d",
   "metadata": {},
   "outputs": [
    {
     "data": {
      "text/html": [
       "<div>\n",
       "<style scoped>\n",
       "    .dataframe tbody tr th:only-of-type {\n",
       "        vertical-align: middle;\n",
       "    }\n",
       "\n",
       "    .dataframe tbody tr th {\n",
       "        vertical-align: top;\n",
       "    }\n",
       "\n",
       "    .dataframe thead th {\n",
       "        text-align: right;\n",
       "    }\n",
       "</style>\n",
       "<table border=\"1\" class=\"dataframe\">\n",
       "  <thead>\n",
       "    <tr style=\"text-align: right;\">\n",
       "      <th></th>\n",
       "      <th>Brand</th>\n",
       "      <th>Short_summary</th>\n",
       "      <th>Price</th>\n",
       "    </tr>\n",
       "  </thead>\n",
       "  <tbody>\n",
       "    <tr>\n",
       "      <th>0</th>\n",
       "      <td>INVICTUS</td>\n",
       "      <td>Men Textured Loafers</td>\n",
       "      <td>Rs. 658Rs. 2995(78% OFF)</td>\n",
       "    </tr>\n",
       "    <tr>\n",
       "      <th>1</th>\n",
       "      <td>Puma</td>\n",
       "      <td>Men Cell Fraction Fade Running</td>\n",
       "      <td>Rs. 6999</td>\n",
       "    </tr>\n",
       "    <tr>\n",
       "      <th>2</th>\n",
       "      <td>H&amp;M</td>\n",
       "      <td></td>\n",
       "      <td>Rs. 2299</td>\n",
       "    </tr>\n",
       "    <tr>\n",
       "      <th>3</th>\n",
       "      <td>H&amp;M</td>\n",
       "      <td>Square-Toe Sandals</td>\n",
       "      <td>Rs. 1999</td>\n",
       "    </tr>\n",
       "    <tr>\n",
       "      <th>4</th>\n",
       "      <td>HRX by Hrithik Roshan</td>\n",
       "      <td>Men Woven Design Fly Sneakers</td>\n",
       "      <td>Rs. 1349Rs. 2999(55% OFF)</td>\n",
       "    </tr>\n",
       "    <tr>\n",
       "      <th>...</th>\n",
       "      <td>...</td>\n",
       "      <td>...</td>\n",
       "      <td>...</td>\n",
       "    </tr>\n",
       "    <tr>\n",
       "      <th>95</th>\n",
       "      <td>ASICS</td>\n",
       "      <td>Men Running Shoes</td>\n",
       "      <td>Rs. 3849Rs. 5499(30% OFF)</td>\n",
       "    </tr>\n",
       "    <tr>\n",
       "      <th>96</th>\n",
       "      <td>Crew STREET</td>\n",
       "      <td>Men Woven Design Running Shoes</td>\n",
       "      <td>Rs. 899Rs. 2999(70% OFF)</td>\n",
       "    </tr>\n",
       "    <tr>\n",
       "      <th>97</th>\n",
       "      <td>U.S. Polo Assn.</td>\n",
       "      <td>Men Leather Loafers</td>\n",
       "      <td>Rs. 2419Rs. 4399(45% OFF)</td>\n",
       "    </tr>\n",
       "    <tr>\n",
       "      <th>98</th>\n",
       "      <td>HIGHLANDER</td>\n",
       "      <td>Men Sneakers</td>\n",
       "      <td>Rs. 796Rs. 1990(60% OFF)</td>\n",
       "    </tr>\n",
       "    <tr>\n",
       "      <th>99</th>\n",
       "      <td>Mast &amp; Harbour</td>\n",
       "      <td>Women Solid Ballerinas</td>\n",
       "      <td>Rs. 919Rs. 2299(60% OFF)</td>\n",
       "    </tr>\n",
       "  </tbody>\n",
       "</table>\n",
       "<p>100 rows × 3 columns</p>\n",
       "</div>"
      ],
      "text/plain": [
       "                    Brand                   Short_summary  \\\n",
       "0                INVICTUS            Men Textured Loafers   \n",
       "1                    Puma  Men Cell Fraction Fade Running   \n",
       "2                     H&M                                   \n",
       "3                     H&M              Square-Toe Sandals   \n",
       "4   HRX by Hrithik Roshan   Men Woven Design Fly Sneakers   \n",
       "..                    ...                             ...   \n",
       "95                  ASICS               Men Running Shoes   \n",
       "96            Crew STREET  Men Woven Design Running Shoes   \n",
       "97        U.S. Polo Assn.             Men Leather Loafers   \n",
       "98             HIGHLANDER                    Men Sneakers   \n",
       "99         Mast & Harbour          Women Solid Ballerinas   \n",
       "\n",
       "                        Price  \n",
       "0    Rs. 658Rs. 2995(78% OFF)  \n",
       "1                    Rs. 6999  \n",
       "2                    Rs. 2299  \n",
       "3                    Rs. 1999  \n",
       "4   Rs. 1349Rs. 2999(55% OFF)  \n",
       "..                        ...  \n",
       "95  Rs. 3849Rs. 5499(30% OFF)  \n",
       "96   Rs. 899Rs. 2999(70% OFF)  \n",
       "97  Rs. 2419Rs. 4399(45% OFF)  \n",
       "98   Rs. 796Rs. 1990(60% OFF)  \n",
       "99   Rs. 919Rs. 2299(60% OFF)  \n",
       "\n",
       "[100 rows x 3 columns]"
      ]
     },
     "execution_count": 117,
     "metadata": {},
     "output_type": "execute_result"
    }
   ],
   "source": [
    "Shoes_Data= pd.DataFrame({})\n",
    "Shoes_Data['Brand']=Brand\n",
    "Shoes_Data['Short_summary']= Short_summary\n",
    "Shoes_Data['Price']=Price\n",
    "Shoes_Data"
   ]
  },
  {
   "cell_type": "markdown",
   "id": "8e4c8c9a",
   "metadata": {},
   "source": [
    "Q10: Go to webpage https://www.amazon.in/ Enter “Laptop” in the search field and then click the search icon. Then set CPU Type filter to “Intel Core i7” and “Intel Core i9” as shown in the below image: WEB SCRAPING ASSIGNMENT-2 . After setting the filters scrape first 10 laptops data. You have to scrape 3 attributes for each laptop:"
   ]
  },
  {
   "cell_type": "code",
   "execution_count": 118,
   "id": "304e0341",
   "metadata": {},
   "outputs": [],
   "source": [
    "Driver7= webdriver.Chrome(\"chromedriver.exe\")\n",
    "url=\"https://www.amazon.in/\" \n",
    "Driver7.get(url)"
   ]
  },
  {
   "cell_type": "code",
   "execution_count": 119,
   "id": "19e0c820",
   "metadata": {},
   "outputs": [],
   "source": [
    "search_product= Driver7.find_element_by_xpath('//input[@type=\"text\"]')\n",
    "search_product.send_keys(\"Laptop\")\n",
    "\n",
    "search_btn=Driver7.find_element_by_xpath('//input[@id=\"nav-search-submit-button\"]')\n",
    "search_btn.click() \n",
    "filter_btn1=Driver7.find_element_by_xpath('//li[@id=\"p_n_feature_thirteen_browse-bin/12598163031\"]/span')\n",
    "filter_btn1.click()\n",
    "\n",
    "filter_btn2=Driver7.find_element_by_xpath('//li[@id=\"p_n_feature_thirteen_browse-bin/16757432031\"]/span')\n",
    "filter_btn2.click() "
   ]
  },
  {
   "cell_type": "code",
   "execution_count": 120,
   "id": "bbc38bb1",
   "metadata": {},
   "outputs": [],
   "source": [
    "title=Driver7.find_elements_by_xpath('//span[@class=\"a-size-medium a-color-base a-text-normal\"]')\n",
    "Title=[]\n",
    "for i in title[0:10]:\n",
    "    Title.append(i.text)\n",
    "    \n",
    "price=Driver7.find_elements_by_xpath('//span[@class=\"a-price-whole\"]')    \n",
    "Price=[]\n",
    "for i in price[0:10]:\n",
    "    Price.append(i.text)"
   ]
  },
  {
   "cell_type": "code",
   "execution_count": 121,
   "id": "c1a78957",
   "metadata": {},
   "outputs": [],
   "source": [
    "Url= Driver7.find_elements_by_xpath('//a[@class=\"a-link-normal a-text-normal\"]')"
   ]
  },
  {
   "cell_type": "code",
   "execution_count": 122,
   "id": "c3197c0b",
   "metadata": {},
   "outputs": [],
   "source": [
    "Laptop_urls=[]\n",
    "for i in Url:\n",
    "    Laptop_urls.append(i.get_attribute('href'))"
   ]
  },
  {
   "cell_type": "code",
   "execution_count": 123,
   "id": "0d3c038a",
   "metadata": {},
   "outputs": [],
   "source": [
    "Rating=[]\n",
    "for i in Laptop_urls[0:10]:\n",
    "    Driver7.get(i)\n",
    "    time.sleep(5)\n",
    "    try:\n",
    "        rating=Driver7.find_element_by_xpath('//span[@class=\"a-size-base a-nowrap\"]')\n",
    "        Rating.append(rating.text)\n",
    "    except:\n",
    "        Rating.append('--')"
   ]
  },
  {
   "cell_type": "code",
   "execution_count": 124,
   "id": "8ac83420",
   "metadata": {},
   "outputs": [
    {
     "data": {
      "text/html": [
       "<div>\n",
       "<style scoped>\n",
       "    .dataframe tbody tr th:only-of-type {\n",
       "        vertical-align: middle;\n",
       "    }\n",
       "\n",
       "    .dataframe tbody tr th {\n",
       "        vertical-align: top;\n",
       "    }\n",
       "\n",
       "    .dataframe thead th {\n",
       "        text-align: right;\n",
       "    }\n",
       "</style>\n",
       "<table border=\"1\" class=\"dataframe\">\n",
       "  <thead>\n",
       "    <tr style=\"text-align: right;\">\n",
       "      <th></th>\n",
       "      <th>Title</th>\n",
       "      <th>Price</th>\n",
       "      <th>Rating</th>\n",
       "    </tr>\n",
       "  </thead>\n",
       "  <tbody>\n",
       "    <tr>\n",
       "      <th>0</th>\n",
       "      <td>HP Envy 11th Gen Core i7 Processor 13.3-inch (...</td>\n",
       "      <td>1,23,350</td>\n",
       "      <td>4.1 out of 5</td>\n",
       "    </tr>\n",
       "    <tr>\n",
       "      <th>1</th>\n",
       "      <td>Acer Swift 5 14\" (35.56cms) Full HD IPS Displa...</td>\n",
       "      <td>94,999</td>\n",
       "      <td>3.7 out of 5</td>\n",
       "    </tr>\n",
       "    <tr>\n",
       "      <th>2</th>\n",
       "      <td>Mi Notebook Horizon Edition 14 Intel Core i7-1...</td>\n",
       "      <td>57,990</td>\n",
       "      <td>4.2 out of 5</td>\n",
       "    </tr>\n",
       "    <tr>\n",
       "      <th>3</th>\n",
       "      <td>Lenovo IdeaPad S540 11th Gen Intel Core i7 13....</td>\n",
       "      <td>77,990</td>\n",
       "      <td>4.3 out of 5</td>\n",
       "    </tr>\n",
       "    <tr>\n",
       "      <th>4</th>\n",
       "      <td>Fujitsu UH-X 11th Gen Intel Core i7 13.3” (33....</td>\n",
       "      <td>1,07,990</td>\n",
       "      <td>4.1 out of 5</td>\n",
       "    </tr>\n",
       "    <tr>\n",
       "      <th>5</th>\n",
       "      <td>ASUS ROG G703GI-E5148T 17.3\" (43.94 cms) FHD 1...</td>\n",
       "      <td>5,56,524</td>\n",
       "      <td>3.7 out of 5</td>\n",
       "    </tr>\n",
       "    <tr>\n",
       "      <th>6</th>\n",
       "      <td>ASUS TUF Dash F15 (2021), 15.6-inch (39.62 cms...</td>\n",
       "      <td>85,990</td>\n",
       "      <td>--</td>\n",
       "    </tr>\n",
       "    <tr>\n",
       "      <th>7</th>\n",
       "      <td>ASUS TUF Dash F15 (2021), 15.6-inch (39.62 cms...</td>\n",
       "      <td>84,990</td>\n",
       "      <td>3 out of 5</td>\n",
       "    </tr>\n",
       "    <tr>\n",
       "      <th>8</th>\n",
       "      <td>HP Pavilion Gaming 11th Gen Intel Core i7 15.6...</td>\n",
       "      <td>89,990</td>\n",
       "      <td>3.7 out of 5</td>\n",
       "    </tr>\n",
       "    <tr>\n",
       "      <th>9</th>\n",
       "      <td>ASUS TUF Dash F15 (2021) 15.6\" (39.62 cm) FHD ...</td>\n",
       "      <td>1,09,990</td>\n",
       "      <td>3.7 out of 5</td>\n",
       "    </tr>\n",
       "  </tbody>\n",
       "</table>\n",
       "</div>"
      ],
      "text/plain": [
       "                                               Title     Price        Rating\n",
       "0  HP Envy 11th Gen Core i7 Processor 13.3-inch (...  1,23,350  4.1 out of 5\n",
       "1  Acer Swift 5 14\" (35.56cms) Full HD IPS Displa...    94,999  3.7 out of 5\n",
       "2  Mi Notebook Horizon Edition 14 Intel Core i7-1...    57,990  4.2 out of 5\n",
       "3  Lenovo IdeaPad S540 11th Gen Intel Core i7 13....    77,990  4.3 out of 5\n",
       "4  Fujitsu UH-X 11th Gen Intel Core i7 13.3” (33....  1,07,990  4.1 out of 5\n",
       "5  ASUS ROG G703GI-E5148T 17.3\" (43.94 cms) FHD 1...  5,56,524  3.7 out of 5\n",
       "6  ASUS TUF Dash F15 (2021), 15.6-inch (39.62 cms...    85,990            --\n",
       "7  ASUS TUF Dash F15 (2021), 15.6-inch (39.62 cms...    84,990    3 out of 5\n",
       "8  HP Pavilion Gaming 11th Gen Intel Core i7 15.6...    89,990  3.7 out of 5\n",
       "9  ASUS TUF Dash F15 (2021) 15.6\" (39.62 cm) FHD ...  1,09,990  3.7 out of 5"
      ]
     },
     "execution_count": 124,
     "metadata": {},
     "output_type": "execute_result"
    }
   ],
   "source": [
    "Laptop_data= pd.DataFrame({})\n",
    "Laptop_data['Title']=Title\n",
    "Laptop_data['Price']= Price\n",
    "Laptop_data['Rating']= Rating\n",
    "Laptop_data"
   ]
  },
  {
   "cell_type": "code",
   "execution_count": null,
   "id": "88bcffee",
   "metadata": {},
   "outputs": [],
   "source": []
  }
 ],
 "metadata": {
  "kernelspec": {
   "display_name": "Python 3",
   "language": "python",
   "name": "python3"
  },
  "language_info": {
   "codemirror_mode": {
    "name": "ipython",
    "version": 3
   },
   "file_extension": ".py",
   "mimetype": "text/x-python",
   "name": "python",
   "nbconvert_exporter": "python",
   "pygments_lexer": "ipython3",
   "version": "3.8.8"
  }
 },
 "nbformat": 4,
 "nbformat_minor": 5
}
